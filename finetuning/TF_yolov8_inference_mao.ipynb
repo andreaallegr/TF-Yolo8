{
 "cells": [
  {
   "cell_type": "markdown",
   "metadata": {
    "id": "aYXAQXRv9vgn"
   },
   "source": [
    "## Setup"
   ]
  },
  {
   "cell_type": "code",
   "execution_count": 27,
   "metadata": {
    "ExecuteTime": {
     "end_time": "2024-02-28T12:46:40.462869700Z",
     "start_time": "2024-02-28T12:46:40.309884800Z"
    }
   },
   "outputs": [],
   "source": [
    "#pip install --upgrade git+https://github.com/keras-team/keras-cv -q"
   ]
  },
  {
   "cell_type": "code",
   "execution_count": 1,
   "metadata": {
    "colab": {
     "base_uri": "https://localhost:8080/"
    },
    "id": "dMTcKKGH9vgn",
    "outputId": "12f98969-478b-48ca-8188-1a836e169f74",
    "ExecuteTime": {
     "end_time": "2024-02-29T16:33:06.464477700Z",
     "start_time": "2024-02-29T16:33:01.512713200Z"
    }
   },
   "outputs": [
    {
     "name": "stderr",
     "output_type": "stream",
     "text": [
      "/home/maog77/.virtualenvs/TF_GPU/lib/python3.10/site-packages/tqdm/auto.py:21: TqdmWarning: IProgress not found. Please update jupyter and ipywidgets. See https://ipywidgets.readthedocs.io/en/stable/user_install.html\n",
      "  from .autonotebook import tqdm as notebook_tqdm\n",
      "2024-02-29 17:33:02.141666: I tensorflow/core/util/port.cc:113] oneDNN custom operations are on. You may see slightly different numerical results due to floating-point round-off errors from different computation orders. To turn them off, set the environment variable `TF_ENABLE_ONEDNN_OPTS=0`.\n",
      "2024-02-29 17:33:02.453849: E external/local_xla/xla/stream_executor/cuda/cuda_dnn.cc:9261] Unable to register cuDNN factory: Attempting to register factory for plugin cuDNN when one has already been registered\n",
      "2024-02-29 17:33:02.453894: E external/local_xla/xla/stream_executor/cuda/cuda_fft.cc:607] Unable to register cuFFT factory: Attempting to register factory for plugin cuFFT when one has already been registered\n",
      "2024-02-29 17:33:02.507135: E external/local_xla/xla/stream_executor/cuda/cuda_blas.cc:1515] Unable to register cuBLAS factory: Attempting to register factory for plugin cuBLAS when one has already been registered\n",
      "2024-02-29 17:33:02.613572: I tensorflow/core/platform/cpu_feature_guard.cc:182] This TensorFlow binary is optimized to use available CPU instructions in performance-critical operations.\n",
      "To enable the following instructions: AVX2 AVX512F AVX512_VNNI FMA, in other operations, rebuild TensorFlow with the appropriate compiler flags.\n",
      "2024-02-29 17:33:03.651903: W tensorflow/compiler/tf2tensorrt/utils/py_utils.cc:38] TF-TRT Warning: Could not find TensorRT\n"
     ]
    },
    {
     "name": "stdout",
     "output_type": "stream",
     "text": [
      "Using TensorFlow backend\n"
     ]
    }
   ],
   "source": [
    "from tqdm.auto import tqdm\n",
    "import tensorflow as tf\n",
    "import keras\n",
    "\n",
    "import keras_cv\n",
    "from keras_cv import bounding_box\n",
    "from keras_cv import visualization"
   ]
  },
  {
   "cell_type": "code",
   "execution_count": 2,
   "metadata": {
    "ExecuteTime": {
     "end_time": "2024-02-29T16:33:11.492917100Z",
     "start_time": "2024-02-29T16:33:11.479268700Z"
    }
   },
   "outputs": [],
   "source": [
    "class_ids = [\n",
    "    #\"Chair\",\"Sofa\",\"Table\"\n",
    "    #\"TV\", \"bed\", \"chair\", \"clock\", \"console\", \"consoleeeeee\", \"door\", \"fan\", \"light\", \"sofa\", \"switchboard\", \"table\"\n",
    "    #\"emptychair\", \"fullchair\"\n",
    "    \"Cane\", \"Gatto\"\n",
    "]\n",
    "class_mapping = dict(zip(range(len(class_ids)), class_ids))"
   ]
  },
  {
   "cell_type": "code",
   "execution_count": 3,
   "metadata": {
    "colab": {
     "base_uri": "https://localhost:8080/"
    },
    "id": "8l_FG3lG9vgq",
    "outputId": "78070df1-0b4d-4da5-ceef-fd82e4b05294",
    "ExecuteTime": {
     "end_time": "2024-02-29T16:33:18.356722Z",
     "start_time": "2024-02-29T16:33:14.650480600Z"
    }
   },
   "outputs": [
    {
     "name": "stderr",
     "output_type": "stream",
     "text": [
      "2024-02-29 17:33:16.196669: I external/local_xla/xla/stream_executor/cuda/cuda_executor.cc:887] could not open file to read NUMA node: /sys/bus/pci/devices/0000:01:00.0/numa_node\n",
      "Your kernel may have been built without NUMA support.\n",
      "2024-02-29 17:33:16.363383: I external/local_xla/xla/stream_executor/cuda/cuda_executor.cc:887] could not open file to read NUMA node: /sys/bus/pci/devices/0000:01:00.0/numa_node\n",
      "Your kernel may have been built without NUMA support.\n",
      "2024-02-29 17:33:16.363426: I external/local_xla/xla/stream_executor/cuda/cuda_executor.cc:887] could not open file to read NUMA node: /sys/bus/pci/devices/0000:01:00.0/numa_node\n",
      "Your kernel may have been built without NUMA support.\n",
      "2024-02-29 17:33:16.366906: I external/local_xla/xla/stream_executor/cuda/cuda_executor.cc:887] could not open file to read NUMA node: /sys/bus/pci/devices/0000:01:00.0/numa_node\n",
      "Your kernel may have been built without NUMA support.\n",
      "2024-02-29 17:33:16.366953: I external/local_xla/xla/stream_executor/cuda/cuda_executor.cc:887] could not open file to read NUMA node: /sys/bus/pci/devices/0000:01:00.0/numa_node\n",
      "Your kernel may have been built without NUMA support.\n",
      "2024-02-29 17:33:16.366972: I external/local_xla/xla/stream_executor/cuda/cuda_executor.cc:887] could not open file to read NUMA node: /sys/bus/pci/devices/0000:01:00.0/numa_node\n",
      "Your kernel may have been built without NUMA support.\n",
      "2024-02-29 17:33:17.006633: I external/local_xla/xla/stream_executor/cuda/cuda_executor.cc:887] could not open file to read NUMA node: /sys/bus/pci/devices/0000:01:00.0/numa_node\n",
      "Your kernel may have been built without NUMA support.\n",
      "2024-02-29 17:33:17.006723: I external/local_xla/xla/stream_executor/cuda/cuda_executor.cc:887] could not open file to read NUMA node: /sys/bus/pci/devices/0000:01:00.0/numa_node\n",
      "Your kernel may have been built without NUMA support.\n",
      "2024-02-29 17:33:17.006730: I tensorflow/core/common_runtime/gpu/gpu_device.cc:2022] Could not identify NUMA node of platform GPU id 0, defaulting to 0.  Your kernel may not have been built with NUMA support.\n",
      "2024-02-29 17:33:17.006762: I external/local_xla/xla/stream_executor/cuda/cuda_executor.cc:887] could not open file to read NUMA node: /sys/bus/pci/devices/0000:01:00.0/numa_node\n",
      "Your kernel may have been built without NUMA support.\n",
      "2024-02-29 17:33:17.006780: I tensorflow/core/common_runtime/gpu/gpu_device.cc:1929] Created device /job:localhost/replica:0/task:0/device:GPU:0 with 3600 MB memory:  -> device: 0, name: NVIDIA GeForce RTX 3060 Laptop GPU, pci bus id: 0000:01:00.0, compute capability: 8.6\n",
      "/home/maog77/.virtualenvs/TF_GPU/lib/python3.10/site-packages/keras_cv/models/backbones/backbone.py:44: UserWarning: `Model.state_updates` will be removed in a future version. This property should not be used in TensorFlow 2.0, as `updates` are applied automatically.\n",
      "  return id(getattr(self, attr)) not in self._functional_layer_ids\n",
      "/home/maog77/.virtualenvs/TF_GPU/lib/python3.10/site-packages/keras_cv/models/backbones/backbone.py:44: UserWarning: `layer.updates` will be removed in a future version. This property should not be used in TensorFlow 2.0, as `updates` are applied automatically.\n",
      "  return id(getattr(self, attr)) not in self._functional_layer_ids\n"
     ]
    }
   ],
   "source": [
    "backbone = keras_cv.models.YOLOV8Backbone.from_preset(\n",
    "    \"yolo_v8_m_backbone_coco\",  # We will use yolov8 small backbone with coco weights\n",
    "    load_weights=True\n",
    ")\n",
    "backbone.trainable = False"
   ]
  },
  {
   "cell_type": "code",
   "execution_count": 4,
   "metadata": {
    "id": "-d0fxOA39vgu",
    "ExecuteTime": {
     "end_time": "2024-02-29T16:33:25.241200600Z",
     "start_time": "2024-02-29T16:33:23.630027700Z"
    }
   },
   "outputs": [],
   "source": [
    "yolo = keras_cv.models.YOLOV8Detector(\n",
    "    num_classes=len(class_mapping),\n",
    "    bounding_box_format=\"xyxy\",\n",
    "    backbone=backbone,\n",
    "    #fpn_depth=1\n",
    ")"
   ]
  },
  {
   "cell_type": "code",
   "execution_count": 5,
   "metadata": {
    "id": "sY6tk0O9MiAc",
    "ExecuteTime": {
     "end_time": "2024-02-29T16:33:31.716312400Z",
     "start_time": "2024-02-29T16:33:30.990883300Z"
    }
   },
   "outputs": [],
   "source": [
    "DATASET_NAME = \"Animali\"\n",
    "BACKBONE_SIZE = \"m\"\n",
    "BACKBONE_NAME =\"yolo_v8_\" + BACKBONE_SIZE + \"_backbone_coco\"\n",
    "BACKBONE_TRAINABLE = False\n",
    "\n",
    "MODEL_NAME = \"model-{size}{freezed}-{dataset}\".format(size=BACKBONE_SIZE, freezed= \"-bbfreez\" if BACKBONE_TRAINABLE == False else \"\", dataset=DATASET_NAME)\n",
    "\n",
    "path_dataset = \"../../Yolo8_Dataset\"\n",
    "   \n",
    "path_model = path_dataset + F\"/{DATASET_NAME}/models/\" + MODEL_NAME + \".h5\"\n",
    "\n",
    "\n",
    "yolo.load_weights(path_model)\n",
    "#yolo = keras_cv.models.load(\"model.h5\")"
   ]
  },
  {
   "cell_type": "code",
   "outputs": [],
   "source": [
    "path_immagini_source = path_dataset + F\"/{DATASET_NAME}/source/\""
   ],
   "metadata": {
    "collapsed": false,
    "ExecuteTime": {
     "end_time": "2024-02-29T16:33:34.504154400Z",
     "start_time": "2024-02-29T16:33:34.491119400Z"
    }
   },
   "execution_count": 6
  },
  {
   "cell_type": "code",
   "execution_count": 7,
   "metadata": {
    "ExecuteTime": {
     "end_time": "2024-02-29T16:33:36.708750500Z",
     "start_time": "2024-02-29T16:33:36.700192600Z"
    }
   },
   "outputs": [],
   "source": [
    "yolo.prediction_decoder = keras_cv.layers.NonMaxSuppression(\n",
    "     bounding_box_format=\"xyxy\",\n",
    "     from_logits=False,\n",
    "     iou_threshold=0.10,\n",
    "     confidence_threshold=0.01,\n",
    "     max_detections=50\n",
    " )"
   ]
  },
  {
   "cell_type": "code",
   "execution_count": 10,
   "metadata": {
    "colab": {
     "base_uri": "https://localhost:8080/",
     "height": 497
    },
    "id": "fE2zGCtdMZqZ",
    "outputId": "ac8afa4a-c306-414d-97e1-ac85d7976a5e",
    "ExecuteTime": {
     "end_time": "2024-02-29T16:46:28.111937600Z",
     "start_time": "2024-02-29T16:46:24.125484400Z"
    }
   },
   "outputs": [
    {
     "ename": "InvalidArgumentError",
     "evalue": "Graph execution error:\n\nDetected at node yolov8_detector/tf.concat_5/concat defined at (most recent call last):\n  File \"/usr/lib/python3.10/runpy.py\", line 196, in _run_module_as_main\n\n  File \"/usr/lib/python3.10/runpy.py\", line 86, in _run_code\n\n  File \"/home/maog77/.virtualenvs/TF_GPU/lib/python3.10/site-packages/ipykernel_launcher.py\", line 18, in <module>\n\n  File \"/home/maog77/.virtualenvs/TF_GPU/lib/python3.10/site-packages/traitlets/config/application.py\", line 1075, in launch_instance\n\n  File \"/home/maog77/.virtualenvs/TF_GPU/lib/python3.10/site-packages/ipykernel/kernelapp.py\", line 739, in start\n\n  File \"/home/maog77/.virtualenvs/TF_GPU/lib/python3.10/site-packages/tornado/platform/asyncio.py\", line 205, in start\n\n  File \"/usr/lib/python3.10/asyncio/base_events.py\", line 603, in run_forever\n\n  File \"/usr/lib/python3.10/asyncio/base_events.py\", line 1909, in _run_once\n\n  File \"/usr/lib/python3.10/asyncio/events.py\", line 80, in _run\n\n  File \"/home/maog77/.virtualenvs/TF_GPU/lib/python3.10/site-packages/ipykernel/kernelbase.py\", line 545, in dispatch_queue\n\n  File \"/home/maog77/.virtualenvs/TF_GPU/lib/python3.10/site-packages/ipykernel/kernelbase.py\", line 534, in process_one\n\n  File \"/home/maog77/.virtualenvs/TF_GPU/lib/python3.10/site-packages/ipykernel/kernelbase.py\", line 437, in dispatch_shell\n\n  File \"/home/maog77/.virtualenvs/TF_GPU/lib/python3.10/site-packages/ipykernel/ipkernel.py\", line 359, in execute_request\n\n  File \"/home/maog77/.virtualenvs/TF_GPU/lib/python3.10/site-packages/ipykernel/kernelbase.py\", line 778, in execute_request\n\n  File \"/home/maog77/.virtualenvs/TF_GPU/lib/python3.10/site-packages/ipykernel/ipkernel.py\", line 446, in do_execute\n\n  File \"/home/maog77/.virtualenvs/TF_GPU/lib/python3.10/site-packages/ipykernel/zmqshell.py\", line 549, in run_cell\n\n  File \"/home/maog77/.virtualenvs/TF_GPU/lib/python3.10/site-packages/IPython/core/interactiveshell.py\", line 3075, in run_cell\n\n  File \"/home/maog77/.virtualenvs/TF_GPU/lib/python3.10/site-packages/IPython/core/interactiveshell.py\", line 3130, in _run_cell\n\n  File \"/home/maog77/.virtualenvs/TF_GPU/lib/python3.10/site-packages/IPython/core/async_helpers.py\", line 129, in _pseudo_sync_runner\n\n  File \"/home/maog77/.virtualenvs/TF_GPU/lib/python3.10/site-packages/IPython/core/interactiveshell.py\", line 3334, in run_cell_async\n\n  File \"/home/maog77/.virtualenvs/TF_GPU/lib/python3.10/site-packages/IPython/core/interactiveshell.py\", line 3517, in run_ast_nodes\n\n  File \"/home/maog77/.virtualenvs/TF_GPU/lib/python3.10/site-packages/IPython/core/interactiveshell.py\", line 3577, in run_code\n\n  File \"/tmp/ipykernel_1417/124774694.py\", line 38, in <module>\n\n  File \"/tmp/ipykernel_1417/124774694.py\", line 9, in visualize_generic\n\n  File \"/home/maog77/.virtualenvs/TF_GPU/lib/python3.10/site-packages/keras/src/utils/traceback_utils.py\", line 65, in error_handler\n\n  File \"/home/maog77/.virtualenvs/TF_GPU/lib/python3.10/site-packages/keras/src/engine/training.py\", line 2655, in predict\n\n  File \"/home/maog77/.virtualenvs/TF_GPU/lib/python3.10/site-packages/keras/src/engine/training.py\", line 2440, in predict_function\n\n  File \"/home/maog77/.virtualenvs/TF_GPU/lib/python3.10/site-packages/keras/src/engine/training.py\", line 2425, in step_function\n\n  File \"/home/maog77/.virtualenvs/TF_GPU/lib/python3.10/site-packages/keras/src/engine/training.py\", line 2413, in run_step\n\n  File \"/home/maog77/.virtualenvs/TF_GPU/lib/python3.10/site-packages/keras_cv/models/object_detection/yolo_v8/yolo_v8_detector.py\", line 612, in predict_step\n\n  File \"/home/maog77/.virtualenvs/TF_GPU/lib/python3.10/site-packages/keras/src/engine/training.py\", line 2381, in predict_step\n\n  File \"/home/maog77/.virtualenvs/TF_GPU/lib/python3.10/site-packages/keras/src/utils/traceback_utils.py\", line 65, in error_handler\n\n  File \"/home/maog77/.virtualenvs/TF_GPU/lib/python3.10/site-packages/keras/src/engine/training.py\", line 590, in __call__\n\n  File \"/home/maog77/.virtualenvs/TF_GPU/lib/python3.10/site-packages/keras/src/utils/traceback_utils.py\", line 65, in error_handler\n\n  File \"/home/maog77/.virtualenvs/TF_GPU/lib/python3.10/site-packages/keras/src/engine/base_layer.py\", line 1149, in __call__\n\n  File \"/home/maog77/.virtualenvs/TF_GPU/lib/python3.10/site-packages/keras/src/utils/traceback_utils.py\", line 96, in error_handler\n\n  File \"/home/maog77/.virtualenvs/TF_GPU/lib/python3.10/site-packages/keras/src/engine/functional.py\", line 515, in call\n\n  File \"/home/maog77/.virtualenvs/TF_GPU/lib/python3.10/site-packages/keras/src/engine/functional.py\", line 672, in _run_internal_graph\n\n  File \"/home/maog77/.virtualenvs/TF_GPU/lib/python3.10/site-packages/keras/src/utils/traceback_utils.py\", line 65, in error_handler\n\n  File \"/home/maog77/.virtualenvs/TF_GPU/lib/python3.10/site-packages/keras/src/engine/base_layer.py\", line 1149, in __call__\n\n  File \"/home/maog77/.virtualenvs/TF_GPU/lib/python3.10/site-packages/keras/src/utils/traceback_utils.py\", line 96, in error_handler\n\n  File \"/home/maog77/.virtualenvs/TF_GPU/lib/python3.10/site-packages/keras/src/layers/core/tf_op_layer.py\", line 242, in _call_wrapper\n\n  File \"/home/maog77/.virtualenvs/TF_GPU/lib/python3.10/site-packages/keras/src/layers/core/tf_op_layer.py\", line 279, in _call_wrapper\n\nConcatOp : Dimension 1 in both shapes must be equal: shape[0] = [1,54,38,576] vs. shape[1] = [1,53,38,384]\n\t [[{{node yolov8_detector/tf.concat_5/concat}}]] [Op:__inference_predict_function_17137]",
     "output_type": "error",
     "traceback": [
      "\u001B[0;31m---------------------------------------------------------------------------\u001B[0m",
      "\u001B[0;31mInvalidArgumentError\u001B[0m                      Traceback (most recent call last)",
      "Cell \u001B[0;32mIn[10], line 38\u001B[0m\n\u001B[1;32m     11\u001B[0m     visualization\u001B[38;5;241m.\u001B[39mplot_bounding_box_gallery(\n\u001B[1;32m     12\u001B[0m         images,\n\u001B[1;32m     13\u001B[0m         value_range\u001B[38;5;241m=\u001B[39m(\u001B[38;5;241m0\u001B[39m, \u001B[38;5;241m255\u001B[39m),\n\u001B[0;32m   (...)\u001B[0m\n\u001B[1;32m     22\u001B[0m         class_mapping\u001B[38;5;241m=\u001B[39mclass_mapping,\n\u001B[1;32m     23\u001B[0m     )\n\u001B[1;32m     26\u001B[0m \u001B[38;5;66;03m# visualize_generic(yolo, image_name=\"../dataset1/test/00012_jpg.rf.f54b7ef0968cf6b0f990928d169e1a83.jpg\", bounding_box_format=\"xyxy\")\u001B[39;00m\n\u001B[1;32m     27\u001B[0m \u001B[38;5;66;03m# visualize_generic(yolo, image_name=\"../dataset1/test/00041_jpg.rf.1b685611d13e60bfd19b1ad008eb81c9.jpg\", bounding_box_format=\"xyxy\")\u001B[39;00m\n\u001B[1;32m     28\u001B[0m \u001B[38;5;66;03m# visualize_generic(yolo, image_name=\"../dataset1/test/00059_jpg.rf.f69bbdb4d09580675715e9a203470631.jpg\", bounding_box_format=\"xyxy\")\u001B[39;00m\n\u001B[0;32m   (...)\u001B[0m\n\u001B[1;32m     35\u001B[0m \u001B[38;5;66;03m# visualize_generic(yolo, image_name=\"../test_images/testimage_4.jpg\", bounding_box_format=\"xyxy\")\u001B[39;00m\n\u001B[1;32m     36\u001B[0m \u001B[38;5;66;03m# visualize_generic(yolo, image_name=\"../test_images/testimage_5.jpg\", bounding_box_format=\"xyxy\")\u001B[39;00m\n\u001B[0;32m---> 38\u001B[0m \u001B[43mvisualize_generic\u001B[49m\u001B[43m(\u001B[49m\u001B[43myolo\u001B[49m\u001B[43m,\u001B[49m\u001B[43m \u001B[49m\u001B[43mimage_name\u001B[49m\u001B[38;5;241;43m=\u001B[39;49m\u001B[43mpath_immagini_source\u001B[49m\u001B[43m \u001B[49m\u001B[38;5;241;43m+\u001B[39;49m\u001B[43m \u001B[49m\u001B[38;5;124;43m\"\u001B[39;49m\u001B[38;5;124;43m/cane-e-gatto-insieme.jpg\u001B[39;49m\u001B[38;5;124;43m\"\u001B[39;49m\u001B[43m,\u001B[49m\u001B[43m \u001B[49m\u001B[43mbounding_box_format\u001B[49m\u001B[38;5;241;43m=\u001B[39;49m\u001B[38;5;124;43m\"\u001B[39;49m\u001B[38;5;124;43mxyxy\u001B[39;49m\u001B[38;5;124;43m\"\u001B[39;49m\u001B[43m)\u001B[49m\n\u001B[1;32m     39\u001B[0m visualize_generic(yolo, image_name\u001B[38;5;241m=\u001B[39mpath_immagini_source \u001B[38;5;241m+\u001B[39m \u001B[38;5;124m\"\u001B[39m\u001B[38;5;124m/183005673-110464f6-fd3c-42b8-9c38-553f0e46a50d.jpg\u001B[39m\u001B[38;5;124m\"\u001B[39m, bounding_box_format\u001B[38;5;241m=\u001B[39m\u001B[38;5;124m\"\u001B[39m\u001B[38;5;124mxyxy\u001B[39m\u001B[38;5;124m\"\u001B[39m)\n\u001B[1;32m     40\u001B[0m visualize_generic(yolo, image_name\u001B[38;5;241m=\u001B[39mpath_immagini_source \u001B[38;5;241m+\u001B[39m \u001B[38;5;124m\"\u001B[39m\u001B[38;5;124m/cani-gatti-litigano-m.jpg\u001B[39m\u001B[38;5;124m\"\u001B[39m, bounding_box_format\u001B[38;5;241m=\u001B[39m\u001B[38;5;124m\"\u001B[39m\u001B[38;5;124mxyxy\u001B[39m\u001B[38;5;124m\"\u001B[39m)\n",
      "Cell \u001B[0;32mIn[10], line 9\u001B[0m, in \u001B[0;36mvisualize_generic\u001B[0;34m(model, image_name, bounding_box_format)\u001B[0m\n\u001B[1;32m      6\u001B[0m images \u001B[38;5;241m=\u001B[39m tf\u001B[38;5;241m.\u001B[39mcast(image, tf\u001B[38;5;241m.\u001B[39mfloat32)\n\u001B[1;32m      7\u001B[0m images \u001B[38;5;241m=\u001B[39m tf\u001B[38;5;241m.\u001B[39mexpand_dims(images, axis\u001B[38;5;241m=\u001B[39m\u001B[38;5;241m0\u001B[39m)\n\u001B[0;32m----> 9\u001B[0m y_pred \u001B[38;5;241m=\u001B[39m \u001B[43mmodel\u001B[49m\u001B[38;5;241;43m.\u001B[39;49m\u001B[43mpredict\u001B[49m\u001B[43m(\u001B[49m\u001B[43mimages\u001B[49m\u001B[43m)\u001B[49m\n\u001B[1;32m     10\u001B[0m y_pred \u001B[38;5;241m=\u001B[39m bounding_box\u001B[38;5;241m.\u001B[39mto_ragged(y_pred)\n\u001B[1;32m     11\u001B[0m visualization\u001B[38;5;241m.\u001B[39mplot_bounding_box_gallery(\n\u001B[1;32m     12\u001B[0m     images,\n\u001B[1;32m     13\u001B[0m     value_range\u001B[38;5;241m=\u001B[39m(\u001B[38;5;241m0\u001B[39m, \u001B[38;5;241m255\u001B[39m),\n\u001B[0;32m   (...)\u001B[0m\n\u001B[1;32m     22\u001B[0m     class_mapping\u001B[38;5;241m=\u001B[39mclass_mapping,\n\u001B[1;32m     23\u001B[0m )\n",
      "File \u001B[0;32m~/.virtualenvs/TF_GPU/lib/python3.10/site-packages/keras/src/utils/traceback_utils.py:70\u001B[0m, in \u001B[0;36mfilter_traceback.<locals>.error_handler\u001B[0;34m(*args, **kwargs)\u001B[0m\n\u001B[1;32m     67\u001B[0m     filtered_tb \u001B[38;5;241m=\u001B[39m _process_traceback_frames(e\u001B[38;5;241m.\u001B[39m__traceback__)\n\u001B[1;32m     68\u001B[0m     \u001B[38;5;66;03m# To get the full stack trace, call:\u001B[39;00m\n\u001B[1;32m     69\u001B[0m     \u001B[38;5;66;03m# `tf.debugging.disable_traceback_filtering()`\u001B[39;00m\n\u001B[0;32m---> 70\u001B[0m     \u001B[38;5;28;01mraise\u001B[39;00m e\u001B[38;5;241m.\u001B[39mwith_traceback(filtered_tb) \u001B[38;5;28;01mfrom\u001B[39;00m \u001B[38;5;28;01mNone\u001B[39;00m\n\u001B[1;32m     71\u001B[0m \u001B[38;5;28;01mfinally\u001B[39;00m:\n\u001B[1;32m     72\u001B[0m     \u001B[38;5;28;01mdel\u001B[39;00m filtered_tb\n",
      "File \u001B[0;32m~/.virtualenvs/TF_GPU/lib/python3.10/site-packages/tensorflow/python/eager/execute.py:53\u001B[0m, in \u001B[0;36mquick_execute\u001B[0;34m(op_name, num_outputs, inputs, attrs, ctx, name)\u001B[0m\n\u001B[1;32m     51\u001B[0m \u001B[38;5;28;01mtry\u001B[39;00m:\n\u001B[1;32m     52\u001B[0m   ctx\u001B[38;5;241m.\u001B[39mensure_initialized()\n\u001B[0;32m---> 53\u001B[0m   tensors \u001B[38;5;241m=\u001B[39m pywrap_tfe\u001B[38;5;241m.\u001B[39mTFE_Py_Execute(ctx\u001B[38;5;241m.\u001B[39m_handle, device_name, op_name,\n\u001B[1;32m     54\u001B[0m                                       inputs, attrs, num_outputs)\n\u001B[1;32m     55\u001B[0m \u001B[38;5;28;01mexcept\u001B[39;00m core\u001B[38;5;241m.\u001B[39m_NotOkStatusException \u001B[38;5;28;01mas\u001B[39;00m e:\n\u001B[1;32m     56\u001B[0m   \u001B[38;5;28;01mif\u001B[39;00m name \u001B[38;5;129;01mis\u001B[39;00m \u001B[38;5;129;01mnot\u001B[39;00m \u001B[38;5;28;01mNone\u001B[39;00m:\n",
      "\u001B[0;31mInvalidArgumentError\u001B[0m: Graph execution error:\n\nDetected at node yolov8_detector/tf.concat_5/concat defined at (most recent call last):\n  File \"/usr/lib/python3.10/runpy.py\", line 196, in _run_module_as_main\n\n  File \"/usr/lib/python3.10/runpy.py\", line 86, in _run_code\n\n  File \"/home/maog77/.virtualenvs/TF_GPU/lib/python3.10/site-packages/ipykernel_launcher.py\", line 18, in <module>\n\n  File \"/home/maog77/.virtualenvs/TF_GPU/lib/python3.10/site-packages/traitlets/config/application.py\", line 1075, in launch_instance\n\n  File \"/home/maog77/.virtualenvs/TF_GPU/lib/python3.10/site-packages/ipykernel/kernelapp.py\", line 739, in start\n\n  File \"/home/maog77/.virtualenvs/TF_GPU/lib/python3.10/site-packages/tornado/platform/asyncio.py\", line 205, in start\n\n  File \"/usr/lib/python3.10/asyncio/base_events.py\", line 603, in run_forever\n\n  File \"/usr/lib/python3.10/asyncio/base_events.py\", line 1909, in _run_once\n\n  File \"/usr/lib/python3.10/asyncio/events.py\", line 80, in _run\n\n  File \"/home/maog77/.virtualenvs/TF_GPU/lib/python3.10/site-packages/ipykernel/kernelbase.py\", line 545, in dispatch_queue\n\n  File \"/home/maog77/.virtualenvs/TF_GPU/lib/python3.10/site-packages/ipykernel/kernelbase.py\", line 534, in process_one\n\n  File \"/home/maog77/.virtualenvs/TF_GPU/lib/python3.10/site-packages/ipykernel/kernelbase.py\", line 437, in dispatch_shell\n\n  File \"/home/maog77/.virtualenvs/TF_GPU/lib/python3.10/site-packages/ipykernel/ipkernel.py\", line 359, in execute_request\n\n  File \"/home/maog77/.virtualenvs/TF_GPU/lib/python3.10/site-packages/ipykernel/kernelbase.py\", line 778, in execute_request\n\n  File \"/home/maog77/.virtualenvs/TF_GPU/lib/python3.10/site-packages/ipykernel/ipkernel.py\", line 446, in do_execute\n\n  File \"/home/maog77/.virtualenvs/TF_GPU/lib/python3.10/site-packages/ipykernel/zmqshell.py\", line 549, in run_cell\n\n  File \"/home/maog77/.virtualenvs/TF_GPU/lib/python3.10/site-packages/IPython/core/interactiveshell.py\", line 3075, in run_cell\n\n  File \"/home/maog77/.virtualenvs/TF_GPU/lib/python3.10/site-packages/IPython/core/interactiveshell.py\", line 3130, in _run_cell\n\n  File \"/home/maog77/.virtualenvs/TF_GPU/lib/python3.10/site-packages/IPython/core/async_helpers.py\", line 129, in _pseudo_sync_runner\n\n  File \"/home/maog77/.virtualenvs/TF_GPU/lib/python3.10/site-packages/IPython/core/interactiveshell.py\", line 3334, in run_cell_async\n\n  File \"/home/maog77/.virtualenvs/TF_GPU/lib/python3.10/site-packages/IPython/core/interactiveshell.py\", line 3517, in run_ast_nodes\n\n  File \"/home/maog77/.virtualenvs/TF_GPU/lib/python3.10/site-packages/IPython/core/interactiveshell.py\", line 3577, in run_code\n\n  File \"/tmp/ipykernel_1417/124774694.py\", line 38, in <module>\n\n  File \"/tmp/ipykernel_1417/124774694.py\", line 9, in visualize_generic\n\n  File \"/home/maog77/.virtualenvs/TF_GPU/lib/python3.10/site-packages/keras/src/utils/traceback_utils.py\", line 65, in error_handler\n\n  File \"/home/maog77/.virtualenvs/TF_GPU/lib/python3.10/site-packages/keras/src/engine/training.py\", line 2655, in predict\n\n  File \"/home/maog77/.virtualenvs/TF_GPU/lib/python3.10/site-packages/keras/src/engine/training.py\", line 2440, in predict_function\n\n  File \"/home/maog77/.virtualenvs/TF_GPU/lib/python3.10/site-packages/keras/src/engine/training.py\", line 2425, in step_function\n\n  File \"/home/maog77/.virtualenvs/TF_GPU/lib/python3.10/site-packages/keras/src/engine/training.py\", line 2413, in run_step\n\n  File \"/home/maog77/.virtualenvs/TF_GPU/lib/python3.10/site-packages/keras_cv/models/object_detection/yolo_v8/yolo_v8_detector.py\", line 612, in predict_step\n\n  File \"/home/maog77/.virtualenvs/TF_GPU/lib/python3.10/site-packages/keras/src/engine/training.py\", line 2381, in predict_step\n\n  File \"/home/maog77/.virtualenvs/TF_GPU/lib/python3.10/site-packages/keras/src/utils/traceback_utils.py\", line 65, in error_handler\n\n  File \"/home/maog77/.virtualenvs/TF_GPU/lib/python3.10/site-packages/keras/src/engine/training.py\", line 590, in __call__\n\n  File \"/home/maog77/.virtualenvs/TF_GPU/lib/python3.10/site-packages/keras/src/utils/traceback_utils.py\", line 65, in error_handler\n\n  File \"/home/maog77/.virtualenvs/TF_GPU/lib/python3.10/site-packages/keras/src/engine/base_layer.py\", line 1149, in __call__\n\n  File \"/home/maog77/.virtualenvs/TF_GPU/lib/python3.10/site-packages/keras/src/utils/traceback_utils.py\", line 96, in error_handler\n\n  File \"/home/maog77/.virtualenvs/TF_GPU/lib/python3.10/site-packages/keras/src/engine/functional.py\", line 515, in call\n\n  File \"/home/maog77/.virtualenvs/TF_GPU/lib/python3.10/site-packages/keras/src/engine/functional.py\", line 672, in _run_internal_graph\n\n  File \"/home/maog77/.virtualenvs/TF_GPU/lib/python3.10/site-packages/keras/src/utils/traceback_utils.py\", line 65, in error_handler\n\n  File \"/home/maog77/.virtualenvs/TF_GPU/lib/python3.10/site-packages/keras/src/engine/base_layer.py\", line 1149, in __call__\n\n  File \"/home/maog77/.virtualenvs/TF_GPU/lib/python3.10/site-packages/keras/src/utils/traceback_utils.py\", line 96, in error_handler\n\n  File \"/home/maog77/.virtualenvs/TF_GPU/lib/python3.10/site-packages/keras/src/layers/core/tf_op_layer.py\", line 242, in _call_wrapper\n\n  File \"/home/maog77/.virtualenvs/TF_GPU/lib/python3.10/site-packages/keras/src/layers/core/tf_op_layer.py\", line 279, in _call_wrapper\n\nConcatOp : Dimension 1 in both shapes must be equal: shape[0] = [1,54,38,576] vs. shape[1] = [1,53,38,384]\n\t [[{{node yolov8_detector/tf.concat_5/concat}}]] [Op:__inference_predict_function_17137]"
     ]
    }
   ],
   "source": [
    "def visualize_generic(model, image_name, bounding_box_format):\n",
    "    #images = load_image(os.path.join(path_images, image_name))\n",
    "    image = tf.io.read_file(image_name)\n",
    "    image = tf.image.decode_jpeg(image, channels=3)\n",
    "    image = tf.image.resize(image, [640,640])\n",
    "    images = tf.cast(image, tf.float32)\n",
    "    images = tf.expand_dims(images, axis=0)\n",
    "\n",
    "    y_pred = model.predict(images)\n",
    "    y_pred = bounding_box.to_ragged(y_pred)\n",
    "    visualization.plot_bounding_box_gallery(\n",
    "        images,\n",
    "        value_range=(0, 255),\n",
    "        bounding_box_format=bounding_box_format,\n",
    "        #y_true={},\n",
    "        y_pred=y_pred,\n",
    "        scale=4,\n",
    "        rows=1,\n",
    "        cols=1,\n",
    "        show=True,\n",
    "        font_scale=0.7,\n",
    "        class_mapping=class_mapping,\n",
    "    )\n",
    "\n",
    "\n",
    "# visualize_generic(yolo, image_name=\"../dataset1/test/00012_jpg.rf.f54b7ef0968cf6b0f990928d169e1a83.jpg\", bounding_box_format=\"xyxy\")\n",
    "# visualize_generic(yolo, image_name=\"../dataset1/test/00041_jpg.rf.1b685611d13e60bfd19b1ad008eb81c9.jpg\", bounding_box_format=\"xyxy\")\n",
    "# visualize_generic(yolo, image_name=\"../dataset1/test/00059_jpg.rf.f69bbdb4d09580675715e9a203470631.jpg\", bounding_box_format=\"xyxy\")\n",
    "# visualize_generic(yolo, image_name=\"../dataset3/test/Chair-269-_jpg.rf.3a81b0889599ce42bc735ff199f7e536.jpg\", bounding_box_format=\"xyxy\")\n",
    "# visualize_generic(yolo, image_name=\"../dataset3/test/Sofa-359-_jpg.rf.2995061f9eaae4bca7913b736e3e49a1.jpg\", bounding_box_format=\"xyxy\")\n",
    "# visualize_generic(yolo, image_name=\"../dataset3/test/Chairs1-16-_jpg.rf.a4506ce899294f71c7fd534a42534144.jpg\", bounding_box_format=\"xyxy\")\n",
    "# visualize_generic(yolo, image_name=\"../test_images/testimage_1.jpg\", bounding_box_format=\"xyxy\")\n",
    "# visualize_generic(yolo, image_name=\"../test_images/testimage_2.jpg\", bounding_box_format=\"xyxy\")\n",
    "# visualize_generic(yolo, image_name=\"../test_images/testimage_3.jpg\", bounding_box_format=\"xyxy\")\n",
    "# visualize_generic(yolo, image_name=\"../test_images/testimage_4.jpg\", bounding_box_format=\"xyxy\")\n",
    "# visualize_generic(yolo, image_name=\"../test_images/testimage_5.jpg\", bounding_box_format=\"xyxy\")\n",
    "\n",
    "visualize_generic(yolo, image_name=path_immagini_source + \"/cane-e-gatto-insieme.jpg\", bounding_box_format=\"xyxy\")\n",
    "visualize_generic(yolo, image_name=path_immagini_source + \"/183005673-110464f6-fd3c-42b8-9c38-553f0e46a50d.jpg\", bounding_box_format=\"xyxy\")\n",
    "visualize_generic(yolo, image_name=path_immagini_source + \"/cani-gatti-litigano-m.jpg\", bounding_box_format=\"xyxy\")\n",
    "visualize_generic(yolo, image_name=path_immagini_source + \"/dog-2606759_640.jpg\", bounding_box_format=\"xyxy\")\n",
    "\n",
    "visualize_generic(yolo, image_name=path_immagini_source + \"/billy001.jpg\", bounding_box_format=\"xyxy\")\n",
    "visualize_generic(yolo, image_name=path_immagini_source + \"/billy002.jpg\", bounding_box_format=\"xyxy\")\n",
    "\n",
    "\n",
    "#img_0120_jpg.rf.36da0f1b2f59ec13cb70e1b82defd9a0.jpg"
   ]
  },
  {
   "cell_type": "code",
   "execution_count": null,
   "metadata": {},
   "outputs": [],
   "source": []
  }
 ],
 "metadata": {
  "accelerator": "GPU",
  "colab": {
   "provenance": []
  },
  "kernelspec": {
   "display_name": "Python 3 (ipykernel)",
   "language": "python",
   "name": "python3"
  },
  "language_info": {
   "codemirror_mode": {
    "name": "ipython",
    "version": 3
   },
   "file_extension": ".py",
   "mimetype": "text/x-python",
   "name": "python",
   "nbconvert_exporter": "python",
   "pygments_lexer": "ipython3",
   "version": "3.10.12"
  },
  "widgets": {
   "application/vnd.jupyter.widget-state+json": {
    "23e4a255f1664c699d2d6cf00253559c": {
     "model_module": "@jupyter-widgets/controls",
     "model_module_version": "1.5.0",
     "model_name": "HTMLModel",
     "state": {
      "_dom_classes": [],
      "_model_module": "@jupyter-widgets/controls",
      "_model_module_version": "1.5.0",
      "_model_name": "HTMLModel",
      "_view_count": null,
      "_view_module": "@jupyter-widgets/controls",
      "_view_module_version": "1.5.0",
      "_view_name": "HTMLView",
      "description": "",
      "description_tooltip": null,
      "layout": "IPY_MODEL_b618213856a34ec3830ad0b48a5a0028",
      "placeholder": "​",
      "style": "IPY_MODEL_8c4cd4fca7d349d5b5d0eb212d5d84f2",
      "value": " 4660/4660 [00:03&lt;00:00, 1138.91it/s]"
     }
    },
    "2b949297991243388c2bbd0a04760f41": {
     "model_module": "@jupyter-widgets/controls",
     "model_module_version": "1.5.0",
     "model_name": "HBoxModel",
     "state": {
      "_dom_classes": [],
      "_model_module": "@jupyter-widgets/controls",
      "_model_module_version": "1.5.0",
      "_model_name": "HBoxModel",
      "_view_count": null,
      "_view_module": "@jupyter-widgets/controls",
      "_view_module_version": "1.5.0",
      "_view_name": "HBoxView",
      "box_style": "",
      "children": [
       "IPY_MODEL_a1c6cbfd5c614a68ba9a3bb1f5efc5f7",
       "IPY_MODEL_611f30558a3d4278bb6cdeb52c98cff5",
       "IPY_MODEL_23e4a255f1664c699d2d6cf00253559c"
      ],
      "layout": "IPY_MODEL_6fc913a8f1604a639b5a45437af4718c"
     }
    },
    "5dc5446c9611411ca61b12b715253919": {
     "model_module": "@jupyter-widgets/base",
     "model_module_version": "1.2.0",
     "model_name": "LayoutModel",
     "state": {
      "_model_module": "@jupyter-widgets/base",
      "_model_module_version": "1.2.0",
      "_model_name": "LayoutModel",
      "_view_count": null,
      "_view_module": "@jupyter-widgets/base",
      "_view_module_version": "1.2.0",
      "_view_name": "LayoutView",
      "align_content": null,
      "align_items": null,
      "align_self": null,
      "border": null,
      "bottom": null,
      "display": null,
      "flex": null,
      "flex_flow": null,
      "grid_area": null,
      "grid_auto_columns": null,
      "grid_auto_flow": null,
      "grid_auto_rows": null,
      "grid_column": null,
      "grid_gap": null,
      "grid_row": null,
      "grid_template_areas": null,
      "grid_template_columns": null,
      "grid_template_rows": null,
      "height": null,
      "justify_content": null,
      "justify_items": null,
      "left": null,
      "margin": null,
      "max_height": null,
      "max_width": null,
      "min_height": null,
      "min_width": null,
      "object_fit": null,
      "object_position": null,
      "order": null,
      "overflow": null,
      "overflow_x": null,
      "overflow_y": null,
      "padding": null,
      "right": null,
      "top": null,
      "visibility": null,
      "width": null
     }
    },
    "611f30558a3d4278bb6cdeb52c98cff5": {
     "model_module": "@jupyter-widgets/controls",
     "model_module_version": "1.5.0",
     "model_name": "FloatProgressModel",
     "state": {
      "_dom_classes": [],
      "_model_module": "@jupyter-widgets/controls",
      "_model_module_version": "1.5.0",
      "_model_name": "FloatProgressModel",
      "_view_count": null,
      "_view_module": "@jupyter-widgets/controls",
      "_view_module_version": "1.5.0",
      "_view_name": "ProgressView",
      "bar_style": "success",
      "description": "",
      "description_tooltip": null,
      "layout": "IPY_MODEL_5dc5446c9611411ca61b12b715253919",
      "max": 4660,
      "min": 0,
      "orientation": "horizontal",
      "style": "IPY_MODEL_66722e0666bf4bfa96238cdec21491f6",
      "value": 4660
     }
    },
    "66722e0666bf4bfa96238cdec21491f6": {
     "model_module": "@jupyter-widgets/controls",
     "model_module_version": "1.5.0",
     "model_name": "ProgressStyleModel",
     "state": {
      "_model_module": "@jupyter-widgets/controls",
      "_model_module_version": "1.5.0",
      "_model_name": "ProgressStyleModel",
      "_view_count": null,
      "_view_module": "@jupyter-widgets/base",
      "_view_module_version": "1.2.0",
      "_view_name": "StyleView",
      "bar_color": null,
      "description_width": ""
     }
    },
    "66b3cacb326448829fc378be51cbeebe": {
     "model_module": "@jupyter-widgets/controls",
     "model_module_version": "1.5.0",
     "model_name": "DescriptionStyleModel",
     "state": {
      "_model_module": "@jupyter-widgets/controls",
      "_model_module_version": "1.5.0",
      "_model_name": "DescriptionStyleModel",
      "_view_count": null,
      "_view_module": "@jupyter-widgets/base",
      "_view_module_version": "1.2.0",
      "_view_name": "StyleView",
      "description_width": ""
     }
    },
    "6fc913a8f1604a639b5a45437af4718c": {
     "model_module": "@jupyter-widgets/base",
     "model_module_version": "1.2.0",
     "model_name": "LayoutModel",
     "state": {
      "_model_module": "@jupyter-widgets/base",
      "_model_module_version": "1.2.0",
      "_model_name": "LayoutModel",
      "_view_count": null,
      "_view_module": "@jupyter-widgets/base",
      "_view_module_version": "1.2.0",
      "_view_name": "LayoutView",
      "align_content": null,
      "align_items": null,
      "align_self": null,
      "border": null,
      "bottom": null,
      "display": null,
      "flex": null,
      "flex_flow": null,
      "grid_area": null,
      "grid_auto_columns": null,
      "grid_auto_flow": null,
      "grid_auto_rows": null,
      "grid_column": null,
      "grid_gap": null,
      "grid_row": null,
      "grid_template_areas": null,
      "grid_template_columns": null,
      "grid_template_rows": null,
      "height": null,
      "justify_content": null,
      "justify_items": null,
      "left": null,
      "margin": null,
      "max_height": null,
      "max_width": null,
      "min_height": null,
      "min_width": null,
      "object_fit": null,
      "object_position": null,
      "order": null,
      "overflow": null,
      "overflow_x": null,
      "overflow_y": null,
      "padding": null,
      "right": null,
      "top": null,
      "visibility": null,
      "width": null
     }
    },
    "8c4cd4fca7d349d5b5d0eb212d5d84f2": {
     "model_module": "@jupyter-widgets/controls",
     "model_module_version": "1.5.0",
     "model_name": "DescriptionStyleModel",
     "state": {
      "_model_module": "@jupyter-widgets/controls",
      "_model_module_version": "1.5.0",
      "_model_name": "DescriptionStyleModel",
      "_view_count": null,
      "_view_module": "@jupyter-widgets/base",
      "_view_module_version": "1.2.0",
      "_view_name": "StyleView",
      "description_width": ""
     }
    },
    "a1c6cbfd5c614a68ba9a3bb1f5efc5f7": {
     "model_module": "@jupyter-widgets/controls",
     "model_module_version": "1.5.0",
     "model_name": "HTMLModel",
     "state": {
      "_dom_classes": [],
      "_model_module": "@jupyter-widgets/controls",
      "_model_module_version": "1.5.0",
      "_model_name": "HTMLModel",
      "_view_count": null,
      "_view_module": "@jupyter-widgets/controls",
      "_view_module_version": "1.5.0",
      "_view_name": "HTMLView",
      "description": "",
      "description_tooltip": null,
      "layout": "IPY_MODEL_e3c791bfcf6c453d85dae4f359b74f83",
      "placeholder": "​",
      "style": "IPY_MODEL_66b3cacb326448829fc378be51cbeebe",
      "value": "100%"
     }
    },
    "b618213856a34ec3830ad0b48a5a0028": {
     "model_module": "@jupyter-widgets/base",
     "model_module_version": "1.2.0",
     "model_name": "LayoutModel",
     "state": {
      "_model_module": "@jupyter-widgets/base",
      "_model_module_version": "1.2.0",
      "_model_name": "LayoutModel",
      "_view_count": null,
      "_view_module": "@jupyter-widgets/base",
      "_view_module_version": "1.2.0",
      "_view_name": "LayoutView",
      "align_content": null,
      "align_items": null,
      "align_self": null,
      "border": null,
      "bottom": null,
      "display": null,
      "flex": null,
      "flex_flow": null,
      "grid_area": null,
      "grid_auto_columns": null,
      "grid_auto_flow": null,
      "grid_auto_rows": null,
      "grid_column": null,
      "grid_gap": null,
      "grid_row": null,
      "grid_template_areas": null,
      "grid_template_columns": null,
      "grid_template_rows": null,
      "height": null,
      "justify_content": null,
      "justify_items": null,
      "left": null,
      "margin": null,
      "max_height": null,
      "max_width": null,
      "min_height": null,
      "min_width": null,
      "object_fit": null,
      "object_position": null,
      "order": null,
      "overflow": null,
      "overflow_x": null,
      "overflow_y": null,
      "padding": null,
      "right": null,
      "top": null,
      "visibility": null,
      "width": null
     }
    },
    "e3c791bfcf6c453d85dae4f359b74f83": {
     "model_module": "@jupyter-widgets/base",
     "model_module_version": "1.2.0",
     "model_name": "LayoutModel",
     "state": {
      "_model_module": "@jupyter-widgets/base",
      "_model_module_version": "1.2.0",
      "_model_name": "LayoutModel",
      "_view_count": null,
      "_view_module": "@jupyter-widgets/base",
      "_view_module_version": "1.2.0",
      "_view_name": "LayoutView",
      "align_content": null,
      "align_items": null,
      "align_self": null,
      "border": null,
      "bottom": null,
      "display": null,
      "flex": null,
      "flex_flow": null,
      "grid_area": null,
      "grid_auto_columns": null,
      "grid_auto_flow": null,
      "grid_auto_rows": null,
      "grid_column": null,
      "grid_gap": null,
      "grid_row": null,
      "grid_template_areas": null,
      "grid_template_columns": null,
      "grid_template_rows": null,
      "height": null,
      "justify_content": null,
      "justify_items": null,
      "left": null,
      "margin": null,
      "max_height": null,
      "max_width": null,
      "min_height": null,
      "min_width": null,
      "object_fit": null,
      "object_position": null,
      "order": null,
      "overflow": null,
      "overflow_x": null,
      "overflow_y": null,
      "padding": null,
      "right": null,
      "top": null,
      "visibility": null,
      "width": null
     }
    }
   }
  }
 },
 "nbformat": 4,
 "nbformat_minor": 4
}
