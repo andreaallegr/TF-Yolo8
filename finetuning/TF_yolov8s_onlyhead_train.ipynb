{
 "cells": [
  {
   "cell_type": "code",
   "execution_count": 1,
   "metadata": {},
   "outputs": [],
   "source": [
    "#!pip install --upgrade git+https://github.com/keras-team/keras-cv -q"
   ]
  },
  {
   "cell_type": "code",
   "execution_count": 2,
   "metadata": {
    "colab": {
     "base_uri": "https://localhost:8080/"
    },
    "id": "8b4mPR0JE1Zv",
    "outputId": "6e8612ba-28fa-445d-e5e4-a80b6449e0c0"
   },
   "outputs": [],
   "source": [
    "#!wget https://universe.roboflow.com/ds/J2gwc4lbUt?key=EDrj9yWOXp -O indoor_object_detection.zip"
   ]
  },
  {
   "cell_type": "code",
   "execution_count": 3,
   "metadata": {
    "colab": {
     "base_uri": "https://localhost:8080/"
    },
    "id": "WNwwp1WkJSBm",
    "outputId": "b5fd8bff-0eef-416e-e251-3372b18c623c"
   },
   "outputs": [],
   "source": [
    "#!unzip \"indoor_object_detection.zip\" -d \"dataset2/\""
   ]
  },
  {
   "cell_type": "markdown",
   "metadata": {
    "id": "aYXAQXRv9vgn"
   },
   "source": [
    "## Setup"
   ]
  },
  {
   "cell_type": "code",
   "execution_count": 4,
   "metadata": {
    "colab": {
     "base_uri": "https://localhost:8080/"
    },
    "id": "dMTcKKGH9vgn",
    "outputId": "12f98969-478b-48ca-8188-1a836e169f74"
   },
   "outputs": [
    {
     "name": "stderr",
     "output_type": "stream",
     "text": [
      "2024-02-06 17:51:29.422699: I tensorflow/core/util/port.cc:113] oneDNN custom operations are on. You may see slightly different numerical results due to floating-point round-off errors from different computation orders. To turn them off, set the environment variable `TF_ENABLE_ONEDNN_OPTS=0`.\n",
      "2024-02-06 17:51:30.316140: E external/local_xla/xla/stream_executor/cuda/cuda_dnn.cc:9261] Unable to register cuDNN factory: Attempting to register factory for plugin cuDNN when one has already been registered\n",
      "2024-02-06 17:51:30.316210: E external/local_xla/xla/stream_executor/cuda/cuda_fft.cc:607] Unable to register cuFFT factory: Attempting to register factory for plugin cuFFT when one has already been registered\n",
      "2024-02-06 17:51:30.492217: E external/local_xla/xla/stream_executor/cuda/cuda_blas.cc:1515] Unable to register cuBLAS factory: Attempting to register factory for plugin cuBLAS when one has already been registered\n",
      "2024-02-06 17:51:30.841885: I tensorflow/core/platform/cpu_feature_guard.cc:182] This TensorFlow binary is optimized to use available CPU instructions in performance-critical operations.\n",
      "To enable the following instructions: AVX2 AVX_VNNI FMA, in other operations, rebuild TensorFlow with the appropriate compiler flags.\n",
      "2024-02-06 17:51:32.681937: W tensorflow/compiler/tf2tensorrt/utils/py_utils.cc:38] TF-TRT Warning: Could not find TensorRT\n"
     ]
    },
    {
     "name": "stdout",
     "output_type": "stream",
     "text": [
      "Using TensorFlow backend\n"
     ]
    }
   ],
   "source": [
    "import os\n",
    "import pandas as pd\n",
    "import matplotlib.pyplot as plt\n",
    "\n",
    "from tqdm.auto import tqdm\n",
    "import xml.etree.ElementTree as ET\n",
    "\n",
    "import tensorflow as tf\n",
    "from tensorflow import keras\n",
    "\n",
    "from datetime import datetime\n",
    "\n",
    "import keras_cv\n",
    "from keras_cv import bounding_box\n",
    "from keras_cv import visualization\n"
   ]
  },
  {
   "cell_type": "markdown",
   "metadata": {
    "id": "Ggo8MEBW9vgo"
   },
   "source": [
    "## Hyperparameters"
   ]
  },
  {
   "cell_type": "code",
   "execution_count": 5,
   "metadata": {
    "id": "6HHbmkEh9vgo"
   },
   "outputs": [],
   "source": [
    "SPLIT_RATIO = 0.2\n",
    "BATCH_SIZE = 2\n",
    "LEARNING_RATE = 0.001\n",
    "EPOCH = 50\n",
    "GLOBAL_CLIPNORM = 10.0"
   ]
  },
  {
   "cell_type": "code",
   "execution_count": 6,
   "metadata": {
    "id": "i3XXhcIN9vgo"
   },
   "outputs": [],
   "source": [
    "class_ids = [\n",
    "    #\"TV\", \"bed\", \"chair\", \"clock\", \"console\", \"consoleeeeee\", \"door\", \"fan\", \"light\", \"sofa\", \"switchboard\", \"table\"\n",
    "    \"emptychair\", \"fullchair\"\n",
    "]\n",
    "class_mapping = dict(zip(range(len(class_ids)), class_ids))\n",
    "\n",
    "# Path to images and annotations\n",
    "path_images = \"../dataset2/train/\"\n",
    "path_annot = \"../dataset2/train/\"\n",
    "\n",
    "# Get all XML file paths in path_annot and sort them\n",
    "xml_files = sorted(\n",
    "    [\n",
    "        os.path.join(path_annot, file_name)\n",
    "        for file_name in os.listdir(path_annot)\n",
    "        if file_name.endswith(\".xml\")\n",
    "    ]\n",
    ")\n",
    "\n",
    "# Get all JPEG image file paths in path_images and sort them\n",
    "jpg_files = sorted(\n",
    "    [\n",
    "        os.path.join(path_images, file_name)\n",
    "        for file_name in os.listdir(path_images)\n",
    "        if file_name.endswith(\".jpg\")\n",
    "    ]\n",
    ")"
   ]
  },
  {
   "cell_type": "code",
   "execution_count": 7,
   "metadata": {
    "colab": {
     "base_uri": "https://localhost:8080/",
     "height": 49,
     "referenced_widgets": [
      "2b949297991243388c2bbd0a04760f41",
      "a1c6cbfd5c614a68ba9a3bb1f5efc5f7",
      "611f30558a3d4278bb6cdeb52c98cff5",
      "23e4a255f1664c699d2d6cf00253559c",
      "6fc913a8f1604a639b5a45437af4718c",
      "e3c791bfcf6c453d85dae4f359b74f83",
      "66b3cacb326448829fc378be51cbeebe",
      "5dc5446c9611411ca61b12b715253919",
      "66722e0666bf4bfa96238cdec21491f6",
      "b618213856a34ec3830ad0b48a5a0028",
      "8c4cd4fca7d349d5b5d0eb212d5d84f2"
     ]
    },
    "id": "4ix2L_Gw9vgo",
    "outputId": "f93fe7ce-c63f-435a-8d18-47bfcff1898f"
   },
   "outputs": [
    {
     "data": {
      "application/vnd.jupyter.widget-view+json": {
       "model_id": "628763d1f67c40e8bb36909702eee837",
       "version_major": 2,
       "version_minor": 0
      },
      "text/plain": [
       "  0%|          | 0/4780 [00:00<?, ?it/s]"
      ]
     },
     "metadata": {},
     "output_type": "display_data"
    }
   ],
   "source": [
    "\n",
    "def parse_annotation(xml_file):\n",
    "    tree = ET.parse(xml_file)\n",
    "    root = tree.getroot()\n",
    "\n",
    "    image_name = root.find(\"filename\").text\n",
    "    image_path = os.path.join(path_images, image_name)\n",
    "\n",
    "    boxes = []\n",
    "    classes = []\n",
    "    for obj in root.iter(\"object\"):\n",
    "        cls = obj.find(\"name\").text\n",
    "        classes.append(cls)\n",
    "\n",
    "        bbox = obj.find(\"bndbox\")\n",
    "        xmin = float(bbox.find(\"xmin\").text)\n",
    "        ymin = float(bbox.find(\"ymin\").text)\n",
    "        xmax = float(bbox.find(\"xmax\").text)\n",
    "        ymax = float(bbox.find(\"ymax\").text)\n",
    "        boxes.append([xmin, ymin, xmax, ymax])\n",
    "\n",
    "    class_ids = [\n",
    "        list(class_mapping.keys())[list(class_mapping.values()).index(cls)]\n",
    "        for cls in classes\n",
    "    ]\n",
    "    return image_path, boxes, class_ids\n",
    "\n",
    "\n",
    "image_paths = []\n",
    "bbox = []\n",
    "classes = []\n",
    "for xml_file in tqdm(xml_files):\n",
    "    image_path, boxes, class_ids = parse_annotation(xml_file)\n",
    "    image_paths.append(image_path)\n",
    "    bbox.append(boxes)\n",
    "    classes.append(class_ids)"
   ]
  },
  {
   "cell_type": "code",
   "execution_count": 8,
   "metadata": {
    "id": "wQoyFPH09vgp"
   },
   "outputs": [
    {
     "name": "stderr",
     "output_type": "stream",
     "text": [
      "2024-02-06 17:54:09.531110: I external/local_xla/xla/stream_executor/cuda/cuda_executor.cc:887] could not open file to read NUMA node: /sys/bus/pci/devices/0000:01:00.0/numa_node\n",
      "Your kernel may have been built without NUMA support.\n",
      "2024-02-06 17:54:09.869970: I external/local_xla/xla/stream_executor/cuda/cuda_executor.cc:887] could not open file to read NUMA node: /sys/bus/pci/devices/0000:01:00.0/numa_node\n",
      "Your kernel may have been built without NUMA support.\n",
      "2024-02-06 17:54:09.870026: I external/local_xla/xla/stream_executor/cuda/cuda_executor.cc:887] could not open file to read NUMA node: /sys/bus/pci/devices/0000:01:00.0/numa_node\n",
      "Your kernel may have been built without NUMA support.\n",
      "2024-02-06 17:54:09.890195: I external/local_xla/xla/stream_executor/cuda/cuda_executor.cc:887] could not open file to read NUMA node: /sys/bus/pci/devices/0000:01:00.0/numa_node\n",
      "Your kernel may have been built without NUMA support.\n",
      "2024-02-06 17:54:09.890290: I external/local_xla/xla/stream_executor/cuda/cuda_executor.cc:887] could not open file to read NUMA node: /sys/bus/pci/devices/0000:01:00.0/numa_node\n",
      "Your kernel may have been built without NUMA support.\n",
      "2024-02-06 17:54:09.890309: I external/local_xla/xla/stream_executor/cuda/cuda_executor.cc:887] could not open file to read NUMA node: /sys/bus/pci/devices/0000:01:00.0/numa_node\n",
      "Your kernel may have been built without NUMA support.\n",
      "2024-02-06 17:58:46.915251: I external/local_xla/xla/stream_executor/cuda/cuda_executor.cc:887] could not open file to read NUMA node: /sys/bus/pci/devices/0000:01:00.0/numa_node\n",
      "Your kernel may have been built without NUMA support.\n",
      "2024-02-06 17:58:46.918450: I external/local_xla/xla/stream_executor/cuda/cuda_executor.cc:887] could not open file to read NUMA node: /sys/bus/pci/devices/0000:01:00.0/numa_node\n",
      "Your kernel may have been built without NUMA support.\n",
      "2024-02-06 17:58:46.918506: I tensorflow/core/common_runtime/gpu/gpu_device.cc:2022] Could not identify NUMA node of platform GPU id 0, defaulting to 0.  Your kernel may not have been built with NUMA support.\n",
      "2024-02-06 17:58:46.920223: I external/local_xla/xla/stream_executor/cuda/cuda_executor.cc:887] could not open file to read NUMA node: /sys/bus/pci/devices/0000:01:00.0/numa_node\n",
      "Your kernel may have been built without NUMA support.\n",
      "2024-02-06 17:58:46.924851: I tensorflow/core/common_runtime/gpu/gpu_device.cc:1929] Created device /job:localhost/replica:0/task:0/device:GPU:0 with 1590 MB memory:  -> device: 0, name: NVIDIA GeForce RTX 3050 Laptop GPU, pci bus id: 0000:01:00.0, compute capability: 8.6\n"
     ]
    }
   ],
   "source": [
    "bbox = tf.ragged.constant(bbox)\n",
    "classes = tf.ragged.constant(classes)\n",
    "image_paths = tf.ragged.constant(image_paths)\n",
    "\n",
    "data = tf.data.Dataset.from_tensor_slices((image_paths, classes, bbox))"
   ]
  },
  {
   "cell_type": "code",
   "execution_count": 9,
   "metadata": {
    "id": "KiKEdWTd9vgp"
   },
   "outputs": [],
   "source": [
    "# Determine the number of validation samples\n",
    "num_val = int(len(xml_files) * SPLIT_RATIO)\n",
    "\n",
    "# Split the dataset into train and validation sets\n",
    "val_data = data.take(num_val)\n",
    "train_data = data.skip(num_val)"
   ]
  },
  {
   "cell_type": "code",
   "execution_count": 10,
   "metadata": {
    "colab": {
     "base_uri": "https://localhost:8080/"
    },
    "id": "YI_j-84Jop52",
    "outputId": "1b103efb-b50f-494e-d510-0a05f311f651"
   },
   "outputs": [
    {
     "name": "stdout",
     "output_type": "stream",
     "text": [
      "4780\n",
      "956\n",
      "tf.Tensor(3824, shape=(), dtype=int64)\n"
     ]
    }
   ],
   "source": [
    "print(len(image_paths))\n",
    "print(num_val)\n",
    "print(train_data.__len__())"
   ]
  },
  {
   "cell_type": "code",
   "execution_count": 11,
   "metadata": {
    "id": "LH5RhWEN9vgp"
   },
   "outputs": [],
   "source": [
    "\n",
    "def load_image(image_path):\n",
    "    image = tf.io.read_file(image_path)\n",
    "    image = tf.image.decode_jpeg(image, channels=3)\n",
    "    return image\n",
    "\n",
    "\n",
    "def load_dataset(image_path, classes, bbox):\n",
    "    # Read Image\n",
    "    image = load_image(image_path)\n",
    "    bounding_boxes = {\n",
    "        \"classes\": tf.cast(classes, dtype=tf.float32),\n",
    "        \"boxes\": bbox,\n",
    "    }\n",
    "    return {\"images\": tf.cast(image, tf.float32), \"bounding_boxes\": bounding_boxes}\n"
   ]
  },
  {
   "cell_type": "code",
   "execution_count": 12,
   "metadata": {
    "id": "bTAJ1Fvg9vgp"
   },
   "outputs": [],
   "source": [
    "augmenter = keras.Sequential(\n",
    "    layers=[\n",
    "        keras_cv.layers.RandomFlip(mode=\"horizontal\", bounding_box_format=\"xyxy\"),\n",
    "        keras_cv.layers.RandomShear(\n",
    "            x_factor=0.2, y_factor=0.2, bounding_box_format=\"xyxy\"\n",
    "        ),\n",
    "        keras_cv.layers.JitteredResize(\n",
    "            target_size=(640, 640), scale_factor=(0.75, 1.3), bounding_box_format=\"xyxy\"\n",
    "        ),\n",
    "    ]\n",
    ")"
   ]
  },
  {
   "cell_type": "markdown",
   "metadata": {
    "id": "X53NKYSG9vgp"
   },
   "source": [
    "## Creating Training Dataset"
   ]
  },
  {
   "cell_type": "code",
   "execution_count": 13,
   "metadata": {
    "id": "CVEHbwRD9vgq"
   },
   "outputs": [],
   "source": [
    "train_ds = train_data.map(load_dataset, num_parallel_calls=tf.data.AUTOTUNE)\n",
    "train_ds = train_ds.shuffle(BATCH_SIZE * 4)\n",
    "train_ds = train_ds.ragged_batch(BATCH_SIZE, drop_remainder=True)\n",
    "train_ds = train_ds.map(augmenter, num_parallel_calls=tf.data.AUTOTUNE)"
   ]
  },
  {
   "cell_type": "markdown",
   "metadata": {
    "id": "lUvSvgyO9vgq"
   },
   "source": [
    "## Creating Validation Dataset"
   ]
  },
  {
   "cell_type": "code",
   "execution_count": 14,
   "metadata": {
    "id": "32ncwija9vgq"
   },
   "outputs": [],
   "source": [
    "resizing = keras_cv.layers.JitteredResize(\n",
    "    target_size=(640, 640),\n",
    "    scale_factor=(0.75, 1.3),\n",
    "    bounding_box_format=\"xyxy\",\n",
    ")\n",
    "\n",
    "val_ds = val_data.map(load_dataset, num_parallel_calls=tf.data.AUTOTUNE)\n",
    "val_ds = val_ds.shuffle(BATCH_SIZE * 4)\n",
    "val_ds = val_ds.ragged_batch(BATCH_SIZE, drop_remainder=True)\n",
    "val_ds = val_ds.map(resizing, num_parallel_calls=tf.data.AUTOTUNE)"
   ]
  },
  {
   "cell_type": "code",
   "execution_count": 15,
   "metadata": {
    "id": "haPcKl4t9vgq"
   },
   "outputs": [],
   "source": [
    "def dict_to_tuple(inputs):\n",
    "    return inputs[\"images\"], inputs[\"bounding_boxes\"]\n",
    "\n",
    "\n",
    "train_ds = train_ds.map(dict_to_tuple, num_parallel_calls=tf.data.AUTOTUNE)\n",
    "train_ds = train_ds.prefetch(tf.data.AUTOTUNE)\n",
    "\n",
    "val_ds = val_ds.map(dict_to_tuple, num_parallel_calls=tf.data.AUTOTUNE)\n",
    "val_ds = val_ds.prefetch(tf.data.AUTOTUNE)"
   ]
  },
  {
   "cell_type": "markdown",
   "metadata": {
    "id": "0yZtYWl99vgq"
   },
   "source": [
    "## Creating Model"
   ]
  },
  {
   "cell_type": "code",
   "execution_count": 16,
   "metadata": {
    "colab": {
     "base_uri": "https://localhost:8080/"
    },
    "id": "8l_FG3lG9vgq",
    "outputId": "78070df1-0b4d-4da5-ceef-fd82e4b05294"
   },
   "outputs": [
    {
     "name": "stderr",
     "output_type": "stream",
     "text": [
      "/home/andrea/.local/lib/python3.10/site-packages/keras_cv/models/backbones/backbone.py:44: UserWarning: `Model.state_updates` will be removed in a future version. This property should not be used in TensorFlow 2.0, as `updates` are applied automatically.\n",
      "  return id(getattr(self, attr)) not in self._functional_layer_ids\n",
      "/home/andrea/.local/lib/python3.10/site-packages/keras_cv/models/backbones/backbone.py:44: UserWarning: `layer.updates` will be removed in a future version. This property should not be used in TensorFlow 2.0, as `updates` are applied automatically.\n",
      "  return id(getattr(self, attr)) not in self._functional_layer_ids\n"
     ]
    }
   ],
   "source": [
    "backbone = keras_cv.models.YOLOV8Backbone.from_preset(\n",
    "    \"yolo_v8_s_backbone_coco\",  # We will use yolov8 small backbone with coco weights\n",
    "    trainable = False\n",
    ")"
   ]
  },
  {
   "cell_type": "code",
   "execution_count": 17,
   "metadata": {
    "id": "-d0fxOA39vgu"
   },
   "outputs": [
    {
     "name": "stdout",
     "output_type": "stream",
     "text": [
      "Model: \"yolov8_detector\"\n",
      "__________________________________________________________________________________________________\n",
      " Layer (type)                Output Shape                 Param #   Connected to                  \n",
      "==================================================================================================\n",
      " input_2 (InputLayer)        [(None, None, None, 3)]      0         []                            \n",
      "                                                                                                  \n",
      " model (Functional)          {'P3': (None, None, None,    5089760   ['input_2[0][0]']             \n",
      "                             128),                                                                \n",
      "                              'P4': (None, None, None,                                            \n",
      "                             256),                                                                \n",
      "                              'P5': (None, None, None,                                            \n",
      "                             512)}                                                                \n",
      "                                                                                                  \n",
      " tf.repeat (TFOpLambda)      (None, None, None, 512)      0         ['model[0][2]']               \n",
      "                                                                                                  \n",
      " tf.repeat_1 (TFOpLambda)    (None, None, None, 512)      0         ['tf.repeat[0][0]']           \n",
      "                                                                                                  \n",
      " tf.concat_5 (TFOpLambda)    (None, None, None, 768)      0         ['tf.repeat_1[0][0]',         \n",
      "                                                                     'model[0][1]']               \n",
      "                                                                                                  \n",
      " pa_fpn_p4p5_pre_conv (Conv  (None, None, None, 256)      196608    ['tf.concat_5[0][0]']         \n",
      " 2D)                                                                                              \n",
      "                                                                                                  \n",
      " pa_fpn_p4p5_pre_bn (BatchN  (None, None, None, 256)      1024      ['pa_fpn_p4p5_pre_conv[0][0]']\n",
      " ormalization)                                                                                    \n",
      "                                                                                                  \n",
      " pa_fpn_p4p5_pre (Activatio  (None, None, None, 256)      0         ['pa_fpn_p4p5_pre_bn[0][0]']  \n",
      " n)                                                                                               \n",
      "                                                                                                  \n",
      " tf.split_4 (TFOpLambda)     [(None, None, None, 128),    0         ['pa_fpn_p4p5_pre[0][0]']     \n",
      "                              (None, None, None, 128)]                                            \n",
      "                                                                                                  \n",
      " pa_fpn_p4p5_pre_0_1_pad (Z  (None, None, None, 128)      0         ['tf.split_4[0][1]']          \n",
      " eroPadding2D)                                                                                    \n",
      "                                                                                                  \n",
      " pa_fpn_p4p5_pre_0_1_conv (  (None, None, None, 128)      147456    ['pa_fpn_p4p5_pre_0_1_pad[0][0\n",
      " Conv2D)                                                            ]']                           \n",
      "                                                                                                  \n",
      " pa_fpn_p4p5_pre_0_1_bn (Ba  (None, None, None, 128)      512       ['pa_fpn_p4p5_pre_0_1_conv[0][\n",
      " tchNormalization)                                                  0]']                          \n",
      "                                                                                                  \n",
      " pa_fpn_p4p5_pre_0_1 (Activ  (None, None, None, 128)      0         ['pa_fpn_p4p5_pre_0_1_bn[0][0]\n",
      " ation)                                                             ']                            \n",
      "                                                                                                  \n",
      " pa_fpn_p4p5_pre_0_2_pad (Z  (None, None, None, 128)      0         ['pa_fpn_p4p5_pre_0_1[0][0]'] \n",
      " eroPadding2D)                                                                                    \n",
      "                                                                                                  \n",
      " pa_fpn_p4p5_pre_0_2_conv (  (None, None, None, 128)      147456    ['pa_fpn_p4p5_pre_0_2_pad[0][0\n",
      " Conv2D)                                                            ]']                           \n",
      "                                                                                                  \n",
      " pa_fpn_p4p5_pre_0_2_bn (Ba  (None, None, None, 128)      512       ['pa_fpn_p4p5_pre_0_2_conv[0][\n",
      " tchNormalization)                                                  0]']                          \n",
      "                                                                                                  \n",
      " pa_fpn_p4p5_pre_0_2 (Activ  (None, None, None, 128)      0         ['pa_fpn_p4p5_pre_0_2_bn[0][0]\n",
      " ation)                                                             ']                            \n",
      "                                                                                                  \n",
      " tf.concat_6 (TFOpLambda)    (None, None, None, 384)      0         ['tf.split_4[0][0]',          \n",
      "                                                                     'tf.split_4[0][1]',          \n",
      "                                                                     'pa_fpn_p4p5_pre_0_2[0][0]'] \n",
      "                                                                                                  \n",
      " pa_fpn_p4p5_output_conv (C  (None, None, None, 256)      98304     ['tf.concat_6[0][0]']         \n",
      " onv2D)                                                                                           \n",
      "                                                                                                  \n",
      " pa_fpn_p4p5_output_bn (Bat  (None, None, None, 256)      1024      ['pa_fpn_p4p5_output_conv[0][0\n",
      " chNormalization)                                                   ]']                           \n",
      "                                                                                                  \n",
      " pa_fpn_p4p5_output (Activa  (None, None, None, 256)      0         ['pa_fpn_p4p5_output_bn[0][0]'\n",
      " tion)                                                              ]                             \n",
      "                                                                                                  \n",
      " tf.repeat_2 (TFOpLambda)    (None, None, None, 256)      0         ['pa_fpn_p4p5_output[0][0]']  \n",
      "                                                                                                  \n",
      " tf.repeat_3 (TFOpLambda)    (None, None, None, 256)      0         ['tf.repeat_2[0][0]']         \n",
      "                                                                                                  \n",
      " tf.concat_7 (TFOpLambda)    (None, None, None, 384)      0         ['tf.repeat_3[0][0]',         \n",
      "                                                                     'model[0][0]']               \n",
      "                                                                                                  \n",
      " pa_fpn_p3p4p5_pre_conv (Co  (None, None, None, 128)      49152     ['tf.concat_7[0][0]']         \n",
      " nv2D)                                                                                            \n",
      "                                                                                                  \n",
      " pa_fpn_p3p4p5_pre_bn (Batc  (None, None, None, 128)      512       ['pa_fpn_p3p4p5_pre_conv[0][0]\n",
      " hNormalization)                                                    ']                            \n",
      "                                                                                                  \n",
      " pa_fpn_p3p4p5_pre (Activat  (None, None, None, 128)      0         ['pa_fpn_p3p4p5_pre_bn[0][0]']\n",
      " ion)                                                                                             \n",
      "                                                                                                  \n",
      " tf.split_5 (TFOpLambda)     [(None, None, None, 64),     0         ['pa_fpn_p3p4p5_pre[0][0]']   \n",
      "                              (None, None, None, 64)]                                             \n",
      "                                                                                                  \n",
      " pa_fpn_p3p4p5_pre_0_1_pad   (None, None, None, 64)       0         ['tf.split_5[0][1]']          \n",
      " (ZeroPadding2D)                                                                                  \n",
      "                                                                                                  \n",
      " pa_fpn_p3p4p5_pre_0_1_conv  (None, None, None, 64)       36864     ['pa_fpn_p3p4p5_pre_0_1_pad[0]\n",
      "  (Conv2D)                                                          [0]']                         \n",
      "                                                                                                  \n",
      " pa_fpn_p3p4p5_pre_0_1_bn (  (None, None, None, 64)       256       ['pa_fpn_p3p4p5_pre_0_1_conv[0\n",
      " BatchNormalization)                                                ][0]']                        \n",
      "                                                                                                  \n",
      " pa_fpn_p3p4p5_pre_0_1 (Act  (None, None, None, 64)       0         ['pa_fpn_p3p4p5_pre_0_1_bn[0][\n",
      " ivation)                                                           0]']                          \n",
      "                                                                                                  \n",
      " pa_fpn_p3p4p5_pre_0_2_pad   (None, None, None, 64)       0         ['pa_fpn_p3p4p5_pre_0_1[0][0]'\n",
      " (ZeroPadding2D)                                                    ]                             \n",
      "                                                                                                  \n",
      " pa_fpn_p3p4p5_pre_0_2_conv  (None, None, None, 64)       36864     ['pa_fpn_p3p4p5_pre_0_2_pad[0]\n",
      "  (Conv2D)                                                          [0]']                         \n",
      "                                                                                                  \n",
      " pa_fpn_p3p4p5_pre_0_2_bn (  (None, None, None, 64)       256       ['pa_fpn_p3p4p5_pre_0_2_conv[0\n",
      " BatchNormalization)                                                ][0]']                        \n",
      "                                                                                                  \n",
      " pa_fpn_p3p4p5_pre_0_2 (Act  (None, None, None, 64)       0         ['pa_fpn_p3p4p5_pre_0_2_bn[0][\n",
      " ivation)                                                           0]']                          \n",
      "                                                                                                  \n",
      " tf.concat_8 (TFOpLambda)    (None, None, None, 192)      0         ['tf.split_5[0][0]',          \n",
      "                                                                     'tf.split_5[0][1]',          \n",
      "                                                                     'pa_fpn_p3p4p5_pre_0_2[0][0]'\n",
      "                                                                    ]                             \n",
      "                                                                                                  \n",
      " pa_fpn_p3p4p5_output_conv   (None, None, None, 128)      24576     ['tf.concat_8[0][0]']         \n",
      " (Conv2D)                                                                                         \n",
      "                                                                                                  \n",
      " pa_fpn_p3p4p5_output_bn (B  (None, None, None, 128)      512       ['pa_fpn_p3p4p5_output_conv[0]\n",
      " atchNormalization)                                                 [0]']                         \n",
      "                                                                                                  \n",
      " pa_fpn_p3p4p5_output (Acti  (None, None, None, 128)      0         ['pa_fpn_p3p4p5_output_bn[0][0\n",
      " vation)                                                            ]']                           \n",
      "                                                                                                  \n",
      " pa_fpn_p3p4p5_downsample1_  (None, None, None, 128)      0         ['pa_fpn_p3p4p5_output[0][0]']\n",
      " pad (ZeroPadding2D)                                                                              \n",
      "                                                                                                  \n",
      " pa_fpn_p3p4p5_downsample1_  (None, None, None, 128)      147456    ['pa_fpn_p3p4p5_downsample1_pa\n",
      " conv (Conv2D)                                                      d[0][0]']                     \n",
      "                                                                                                  \n",
      " pa_fpn_p3p4p5_downsample1_  (None, None, None, 128)      512       ['pa_fpn_p3p4p5_downsample1_co\n",
      " bn (BatchNormalization)                                            nv[0][0]']                    \n",
      "                                                                                                  \n",
      " pa_fpn_p3p4p5_downsample1   (None, None, None, 128)      0         ['pa_fpn_p3p4p5_downsample1_bn\n",
      " (Activation)                                                       [0][0]']                      \n",
      "                                                                                                  \n",
      " tf.concat_9 (TFOpLambda)    (None, None, None, 384)      0         ['pa_fpn_p3p4p5_downsample1[0]\n",
      "                                                                    [0]',                         \n",
      "                                                                     'pa_fpn_p4p5_output[0][0]']  \n",
      "                                                                                                  \n",
      " pa_fpn_p3p4p5_downsample1_  (None, None, None, 256)      98304     ['tf.concat_9[0][0]']         \n",
      " block_pre_conv (Conv2D)                                                                          \n",
      "                                                                                                  \n",
      " pa_fpn_p3p4p5_downsample1_  (None, None, None, 256)      1024      ['pa_fpn_p3p4p5_downsample1_bl\n",
      " block_pre_bn (BatchNormali                                         ock_pre_conv[0][0]']          \n",
      " zation)                                                                                          \n",
      "                                                                                                  \n",
      " pa_fpn_p3p4p5_downsample1_  (None, None, None, 256)      0         ['pa_fpn_p3p4p5_downsample1_bl\n",
      " block_pre (Activation)                                             ock_pre_bn[0][0]']            \n",
      "                                                                                                  \n",
      " tf.split_6 (TFOpLambda)     [(None, None, None, 128),    0         ['pa_fpn_p3p4p5_downsample1_bl\n",
      "                              (None, None, None, 128)]              ock_pre[0][0]']               \n",
      "                                                                                                  \n",
      " pa_fpn_p3p4p5_downsample1_  (None, None, None, 128)      0         ['tf.split_6[0][1]']          \n",
      " block_pre_0_1_pad (ZeroPad                                                                       \n",
      " ding2D)                                                                                          \n",
      "                                                                                                  \n",
      " pa_fpn_p3p4p5_downsample1_  (None, None, None, 128)      147456    ['pa_fpn_p3p4p5_downsample1_bl\n",
      " block_pre_0_1_conv (Conv2D                                         ock_pre_0_1_pad[0][0]']       \n",
      " )                                                                                                \n",
      "                                                                                                  \n",
      " pa_fpn_p3p4p5_downsample1_  (None, None, None, 128)      512       ['pa_fpn_p3p4p5_downsample1_bl\n",
      " block_pre_0_1_bn (BatchNor                                         ock_pre_0_1_conv[0][0]']      \n",
      " malization)                                                                                      \n",
      "                                                                                                  \n",
      " pa_fpn_p3p4p5_downsample1_  (None, None, None, 128)      0         ['pa_fpn_p3p4p5_downsample1_bl\n",
      " block_pre_0_1 (Activation)                                         ock_pre_0_1_bn[0][0]']        \n",
      "                                                                                                  \n",
      " pa_fpn_p3p4p5_downsample1_  (None, None, None, 128)      0         ['pa_fpn_p3p4p5_downsample1_bl\n",
      " block_pre_0_2_pad (ZeroPad                                         ock_pre_0_1[0][0]']           \n",
      " ding2D)                                                                                          \n",
      "                                                                                                  \n",
      " pa_fpn_p3p4p5_downsample1_  (None, None, None, 128)      147456    ['pa_fpn_p3p4p5_downsample1_bl\n",
      " block_pre_0_2_conv (Conv2D                                         ock_pre_0_2_pad[0][0]']       \n",
      " )                                                                                                \n",
      "                                                                                                  \n",
      " pa_fpn_p3p4p5_downsample1_  (None, None, None, 128)      512       ['pa_fpn_p3p4p5_downsample1_bl\n",
      " block_pre_0_2_bn (BatchNor                                         ock_pre_0_2_conv[0][0]']      \n",
      " malization)                                                                                      \n",
      "                                                                                                  \n",
      " pa_fpn_p3p4p5_downsample1_  (None, None, None, 128)      0         ['pa_fpn_p3p4p5_downsample1_bl\n",
      " block_pre_0_2 (Activation)                                         ock_pre_0_2_bn[0][0]']        \n",
      "                                                                                                  \n",
      " pa_fpn_p3p4p5_downsample1_  (None, None, None, 128)      0         ['pa_fpn_p3p4p5_downsample1_bl\n",
      " block_pre_1_1_pad (ZeroPad                                         ock_pre_0_2[0][0]']           \n",
      " ding2D)                                                                                          \n",
      "                                                                                                  \n",
      " pa_fpn_p3p4p5_downsample1_  (None, None, None, 128)      147456    ['pa_fpn_p3p4p5_downsample1_bl\n",
      " block_pre_1_1_conv (Conv2D                                         ock_pre_1_1_pad[0][0]']       \n",
      " )                                                                                                \n",
      "                                                                                                  \n",
      " pa_fpn_p3p4p5_downsample1_  (None, None, None, 128)      512       ['pa_fpn_p3p4p5_downsample1_bl\n",
      " block_pre_1_1_bn (BatchNor                                         ock_pre_1_1_conv[0][0]']      \n",
      " malization)                                                                                      \n",
      "                                                                                                  \n",
      " pa_fpn_p3p4p5_downsample1_  (None, None, None, 128)      0         ['pa_fpn_p3p4p5_downsample1_bl\n",
      " block_pre_1_1 (Activation)                                         ock_pre_1_1_bn[0][0]']        \n",
      "                                                                                                  \n",
      " pa_fpn_p3p4p5_downsample1_  (None, None, None, 128)      0         ['pa_fpn_p3p4p5_downsample1_bl\n",
      " block_pre_1_2_pad (ZeroPad                                         ock_pre_1_1[0][0]']           \n",
      " ding2D)                                                                                          \n",
      "                                                                                                  \n",
      " pa_fpn_p3p4p5_downsample1_  (None, None, None, 128)      147456    ['pa_fpn_p3p4p5_downsample1_bl\n",
      " block_pre_1_2_conv (Conv2D                                         ock_pre_1_2_pad[0][0]']       \n",
      " )                                                                                                \n",
      "                                                                                                  \n",
      " pa_fpn_p3p4p5_downsample1_  (None, None, None, 128)      512       ['pa_fpn_p3p4p5_downsample1_bl\n",
      " block_pre_1_2_bn (BatchNor                                         ock_pre_1_2_conv[0][0]']      \n",
      " malization)                                                                                      \n",
      "                                                                                                  \n",
      " pa_fpn_p3p4p5_downsample1_  (None, None, None, 128)      0         ['pa_fpn_p3p4p5_downsample1_bl\n",
      " block_pre_1_2 (Activation)                                         ock_pre_1_2_bn[0][0]']        \n",
      "                                                                                                  \n",
      " tf.concat_10 (TFOpLambda)   (None, None, None, 512)      0         ['tf.split_6[0][0]',          \n",
      "                                                                     'tf.split_6[0][1]',          \n",
      "                                                                     'pa_fpn_p3p4p5_downsample1_bl\n",
      "                                                                    ock_pre_0_2[0][0]',           \n",
      "                                                                     'pa_fpn_p3p4p5_downsample1_bl\n",
      "                                                                    ock_pre_1_2[0][0]']           \n",
      "                                                                                                  \n",
      " pa_fpn_p3p4p5_downsample1_  (None, None, None, 256)      131072    ['tf.concat_10[0][0]']        \n",
      " block_output_conv (Conv2D)                                                                       \n",
      "                                                                                                  \n",
      " pa_fpn_p3p4p5_downsample1_  (None, None, None, 256)      1024      ['pa_fpn_p3p4p5_downsample1_bl\n",
      " block_output_bn (BatchNorm                                         ock_output_conv[0][0]']       \n",
      " alization)                                                                                       \n",
      "                                                                                                  \n",
      " pa_fpn_p3p4p5_downsample1_  (None, None, None, 256)      0         ['pa_fpn_p3p4p5_downsample1_bl\n",
      " block_output (Activation)                                          ock_output_bn[0][0]']         \n",
      "                                                                                                  \n",
      " pa_fpn_p3p4p5_downsample2_  (None, None, None, 256)      0         ['pa_fpn_p3p4p5_downsample1_bl\n",
      " pad (ZeroPadding2D)                                                ock_output[0][0]']            \n",
      "                                                                                                  \n",
      " pa_fpn_p3p4p5_downsample2_  (None, None, None, 256)      589824    ['pa_fpn_p3p4p5_downsample2_pa\n",
      " conv (Conv2D)                                                      d[0][0]']                     \n",
      "                                                                                                  \n",
      " pa_fpn_p3p4p5_downsample2_  (None, None, None, 256)      1024      ['pa_fpn_p3p4p5_downsample2_co\n",
      " bn (BatchNormalization)                                            nv[0][0]']                    \n",
      "                                                                                                  \n",
      " pa_fpn_p3p4p5_downsample2   (None, None, None, 256)      0         ['pa_fpn_p3p4p5_downsample2_bn\n",
      " (Activation)                                                       [0][0]']                      \n",
      "                                                                                                  \n",
      " tf.concat_11 (TFOpLambda)   (None, None, None, 768)      0         ['pa_fpn_p3p4p5_downsample2[0]\n",
      "                                                                    [0]',                         \n",
      "                                                                     'model[0][2]']               \n",
      "                                                                                                  \n",
      " pa_fpn_p3p4p5_downsample2_  (None, None, None, 512)      393216    ['tf.concat_11[0][0]']        \n",
      " block_pre_conv (Conv2D)                                                                          \n",
      "                                                                                                  \n",
      " pa_fpn_p3p4p5_downsample2_  (None, None, None, 512)      2048      ['pa_fpn_p3p4p5_downsample2_bl\n",
      " block_pre_bn (BatchNormali                                         ock_pre_conv[0][0]']          \n",
      " zation)                                                                                          \n",
      "                                                                                                  \n",
      " pa_fpn_p3p4p5_downsample2_  (None, None, None, 512)      0         ['pa_fpn_p3p4p5_downsample2_bl\n",
      " block_pre (Activation)                                             ock_pre_bn[0][0]']            \n",
      "                                                                                                  \n",
      " tf.split_7 (TFOpLambda)     [(None, None, None, 256),    0         ['pa_fpn_p3p4p5_downsample2_bl\n",
      "                              (None, None, None, 256)]              ock_pre[0][0]']               \n",
      "                                                                                                  \n",
      " pa_fpn_p3p4p5_downsample2_  (None, None, None, 256)      0         ['tf.split_7[0][1]']          \n",
      " block_pre_0_1_pad (ZeroPad                                                                       \n",
      " ding2D)                                                                                          \n",
      "                                                                                                  \n",
      " pa_fpn_p3p4p5_downsample2_  (None, None, None, 256)      589824    ['pa_fpn_p3p4p5_downsample2_bl\n",
      " block_pre_0_1_conv (Conv2D                                         ock_pre_0_1_pad[0][0]']       \n",
      " )                                                                                                \n",
      "                                                                                                  \n",
      " pa_fpn_p3p4p5_downsample2_  (None, None, None, 256)      1024      ['pa_fpn_p3p4p5_downsample2_bl\n",
      " block_pre_0_1_bn (BatchNor                                         ock_pre_0_1_conv[0][0]']      \n",
      " malization)                                                                                      \n",
      "                                                                                                  \n",
      " pa_fpn_p3p4p5_downsample2_  (None, None, None, 256)      0         ['pa_fpn_p3p4p5_downsample2_bl\n",
      " block_pre_0_1 (Activation)                                         ock_pre_0_1_bn[0][0]']        \n",
      "                                                                                                  \n",
      " pa_fpn_p3p4p5_downsample2_  (None, None, None, 256)      0         ['pa_fpn_p3p4p5_downsample2_bl\n",
      " block_pre_0_2_pad (ZeroPad                                         ock_pre_0_1[0][0]']           \n",
      " ding2D)                                                                                          \n",
      "                                                                                                  \n",
      " pa_fpn_p3p4p5_downsample2_  (None, None, None, 256)      589824    ['pa_fpn_p3p4p5_downsample2_bl\n",
      " block_pre_0_2_conv (Conv2D                                         ock_pre_0_2_pad[0][0]']       \n",
      " )                                                                                                \n",
      "                                                                                                  \n",
      " pa_fpn_p3p4p5_downsample2_  (None, None, None, 256)      1024      ['pa_fpn_p3p4p5_downsample2_bl\n",
      " block_pre_0_2_bn (BatchNor                                         ock_pre_0_2_conv[0][0]']      \n",
      " malization)                                                                                      \n",
      "                                                                                                  \n",
      " pa_fpn_p3p4p5_downsample2_  (None, None, None, 256)      0         ['pa_fpn_p3p4p5_downsample2_bl\n",
      " block_pre_0_2 (Activation)                                         ock_pre_0_2_bn[0][0]']        \n",
      "                                                                                                  \n",
      " pa_fpn_p3p4p5_downsample2_  (None, None, None, 256)      0         ['pa_fpn_p3p4p5_downsample2_bl\n",
      " block_pre_1_1_pad (ZeroPad                                         ock_pre_0_2[0][0]']           \n",
      " ding2D)                                                                                          \n",
      "                                                                                                  \n",
      " pa_fpn_p3p4p5_downsample2_  (None, None, None, 256)      589824    ['pa_fpn_p3p4p5_downsample2_bl\n",
      " block_pre_1_1_conv (Conv2D                                         ock_pre_1_1_pad[0][0]']       \n",
      " )                                                                                                \n",
      "                                                                                                  \n",
      " pa_fpn_p3p4p5_downsample2_  (None, None, None, 256)      1024      ['pa_fpn_p3p4p5_downsample2_bl\n",
      " block_pre_1_1_bn (BatchNor                                         ock_pre_1_1_conv[0][0]']      \n",
      " malization)                                                                                      \n",
      "                                                                                                  \n",
      " pa_fpn_p3p4p5_downsample2_  (None, None, None, 256)      0         ['pa_fpn_p3p4p5_downsample2_bl\n",
      " block_pre_1_1 (Activation)                                         ock_pre_1_1_bn[0][0]']        \n",
      "                                                                                                  \n",
      " pa_fpn_p3p4p5_downsample2_  (None, None, None, 256)      0         ['pa_fpn_p3p4p5_downsample2_bl\n",
      " block_pre_1_2_pad (ZeroPad                                         ock_pre_1_1[0][0]']           \n",
      " ding2D)                                                                                          \n",
      "                                                                                                  \n",
      " pa_fpn_p3p4p5_downsample2_  (None, None, None, 256)      589824    ['pa_fpn_p3p4p5_downsample2_bl\n",
      " block_pre_1_2_conv (Conv2D                                         ock_pre_1_2_pad[0][0]']       \n",
      " )                                                                                                \n",
      "                                                                                                  \n",
      " pa_fpn_p3p4p5_downsample2_  (None, None, None, 256)      1024      ['pa_fpn_p3p4p5_downsample2_bl\n",
      " block_pre_1_2_bn (BatchNor                                         ock_pre_1_2_conv[0][0]']      \n",
      " malization)                                                                                      \n",
      "                                                                                                  \n",
      " pa_fpn_p3p4p5_downsample2_  (None, None, None, 256)      0         ['pa_fpn_p3p4p5_downsample2_bl\n",
      " block_pre_1_2 (Activation)                                         ock_pre_1_2_bn[0][0]']        \n",
      "                                                                                                  \n",
      " tf.concat_12 (TFOpLambda)   (None, None, None, 1024)     0         ['tf.split_7[0][0]',          \n",
      "                                                                     'tf.split_7[0][1]',          \n",
      "                                                                     'pa_fpn_p3p4p5_downsample2_bl\n",
      "                                                                    ock_pre_0_2[0][0]',           \n",
      "                                                                     'pa_fpn_p3p4p5_downsample2_bl\n",
      "                                                                    ock_pre_1_2[0][0]']           \n",
      "                                                                                                  \n",
      " pa_fpn_p3p4p5_downsample2_  (None, None, None, 512)      524288    ['tf.concat_12[0][0]']        \n",
      " block_output_conv (Conv2D)                                                                       \n",
      "                                                                                                  \n",
      " pa_fpn_p3p4p5_downsample2_  (None, None, None, 512)      2048      ['pa_fpn_p3p4p5_downsample2_bl\n",
      " block_output_bn (BatchNorm                                         ock_output_conv[0][0]']       \n",
      " alization)                                                                                       \n",
      "                                                                                                  \n",
      " pa_fpn_p3p4p5_downsample2_  (None, None, None, 512)      0         ['pa_fpn_p3p4p5_downsample2_bl\n",
      " block_output (Activation)                                          ock_output_bn[0][0]']         \n",
      "                                                                                                  \n",
      " yolo_v8_head_1_class_1_pad  (None, None, None, 128)      0         ['pa_fpn_p3p4p5_output[0][0]']\n",
      "  (ZeroPadding2D)                                                                                 \n",
      "                                                                                                  \n",
      " yolo_v8_head_2_class_1_pad  (None, None, None, 256)      0         ['pa_fpn_p3p4p5_downsample1_bl\n",
      "  (ZeroPadding2D)                                                   ock_output[0][0]']            \n",
      "                                                                                                  \n",
      " yolo_v8_head_3_class_1_pad  (None, None, None, 512)      0         ['pa_fpn_p3p4p5_downsample2_bl\n",
      "  (ZeroPadding2D)                                                   ock_output[0][0]']            \n",
      "                                                                                                  \n",
      " yolo_v8_head_1_box_1_pad (  (None, None, None, 128)      0         ['pa_fpn_p3p4p5_output[0][0]']\n",
      " ZeroPadding2D)                                                                                   \n",
      "                                                                                                  \n",
      " yolo_v8_head_1_class_1_con  (None, None, None, 128)      147456    ['yolo_v8_head_1_class_1_pad[0\n",
      " v (Conv2D)                                                         ][0]']                        \n",
      "                                                                                                  \n",
      " yolo_v8_head_2_box_1_pad (  (None, None, None, 256)      0         ['pa_fpn_p3p4p5_downsample1_bl\n",
      " ZeroPadding2D)                                                     ock_output[0][0]']            \n",
      "                                                                                                  \n",
      " yolo_v8_head_2_class_1_con  (None, None, None, 128)      294912    ['yolo_v8_head_2_class_1_pad[0\n",
      " v (Conv2D)                                                         ][0]']                        \n",
      "                                                                                                  \n",
      " yolo_v8_head_3_box_1_pad (  (None, None, None, 512)      0         ['pa_fpn_p3p4p5_downsample2_bl\n",
      " ZeroPadding2D)                                                     ock_output[0][0]']            \n",
      "                                                                                                  \n",
      " yolo_v8_head_3_class_1_con  (None, None, None, 128)      589824    ['yolo_v8_head_3_class_1_pad[0\n",
      " v (Conv2D)                                                         ][0]']                        \n",
      "                                                                                                  \n",
      " yolo_v8_head_1_box_1_conv   (None, None, None, 64)       73728     ['yolo_v8_head_1_box_1_pad[0][\n",
      " (Conv2D)                                                           0]']                          \n",
      "                                                                                                  \n",
      " yolo_v8_head_1_class_1_bn   (None, None, None, 128)      512       ['yolo_v8_head_1_class_1_conv[\n",
      " (BatchNormalization)                                               0][0]']                       \n",
      "                                                                                                  \n",
      " yolo_v8_head_2_box_1_conv   (None, None, None, 64)       147456    ['yolo_v8_head_2_box_1_pad[0][\n",
      " (Conv2D)                                                           0]']                          \n",
      "                                                                                                  \n",
      " yolo_v8_head_2_class_1_bn   (None, None, None, 128)      512       ['yolo_v8_head_2_class_1_conv[\n",
      " (BatchNormalization)                                               0][0]']                       \n",
      "                                                                                                  \n",
      " yolo_v8_head_3_box_1_conv   (None, None, None, 64)       294912    ['yolo_v8_head_3_box_1_pad[0][\n",
      " (Conv2D)                                                           0]']                          \n",
      "                                                                                                  \n",
      " yolo_v8_head_3_class_1_bn   (None, None, None, 128)      512       ['yolo_v8_head_3_class_1_conv[\n",
      " (BatchNormalization)                                               0][0]']                       \n",
      "                                                                                                  \n",
      " yolo_v8_head_1_box_1_bn (B  (None, None, None, 64)       256       ['yolo_v8_head_1_box_1_conv[0]\n",
      " atchNormalization)                                                 [0]']                         \n",
      "                                                                                                  \n",
      " yolo_v8_head_1_class_1 (Ac  (None, None, None, 128)      0         ['yolo_v8_head_1_class_1_bn[0]\n",
      " tivation)                                                          [0]']                         \n",
      "                                                                                                  \n",
      " yolo_v8_head_2_box_1_bn (B  (None, None, None, 64)       256       ['yolo_v8_head_2_box_1_conv[0]\n",
      " atchNormalization)                                                 [0]']                         \n",
      "                                                                                                  \n",
      " yolo_v8_head_2_class_1 (Ac  (None, None, None, 128)      0         ['yolo_v8_head_2_class_1_bn[0]\n",
      " tivation)                                                          [0]']                         \n",
      "                                                                                                  \n",
      " yolo_v8_head_3_box_1_bn (B  (None, None, None, 64)       256       ['yolo_v8_head_3_box_1_conv[0]\n",
      " atchNormalization)                                                 [0]']                         \n",
      "                                                                                                  \n",
      " yolo_v8_head_3_class_1 (Ac  (None, None, None, 128)      0         ['yolo_v8_head_3_class_1_bn[0]\n",
      " tivation)                                                          [0]']                         \n",
      "                                                                                                  \n",
      " yolo_v8_head_1_box_1 (Acti  (None, None, None, 64)       0         ['yolo_v8_head_1_box_1_bn[0][0\n",
      " vation)                                                            ]']                           \n",
      "                                                                                                  \n",
      " yolo_v8_head_1_class_2_pad  (None, None, None, 128)      0         ['yolo_v8_head_1_class_1[0][0]\n",
      "  (ZeroPadding2D)                                                   ']                            \n",
      "                                                                                                  \n",
      " yolo_v8_head_2_box_1 (Acti  (None, None, None, 64)       0         ['yolo_v8_head_2_box_1_bn[0][0\n",
      " vation)                                                            ]']                           \n",
      "                                                                                                  \n",
      " yolo_v8_head_2_class_2_pad  (None, None, None, 128)      0         ['yolo_v8_head_2_class_1[0][0]\n",
      "  (ZeroPadding2D)                                                   ']                            \n",
      "                                                                                                  \n",
      " yolo_v8_head_3_box_1 (Acti  (None, None, None, 64)       0         ['yolo_v8_head_3_box_1_bn[0][0\n",
      " vation)                                                            ]']                           \n",
      "                                                                                                  \n",
      " yolo_v8_head_3_class_2_pad  (None, None, None, 128)      0         ['yolo_v8_head_3_class_1[0][0]\n",
      "  (ZeroPadding2D)                                                   ']                            \n",
      "                                                                                                  \n",
      " yolo_v8_head_1_box_2_pad (  (None, None, None, 64)       0         ['yolo_v8_head_1_box_1[0][0]']\n",
      " ZeroPadding2D)                                                                                   \n",
      "                                                                                                  \n",
      " yolo_v8_head_1_class_2_con  (None, None, None, 128)      147456    ['yolo_v8_head_1_class_2_pad[0\n",
      " v (Conv2D)                                                         ][0]']                        \n",
      "                                                                                                  \n",
      " yolo_v8_head_2_box_2_pad (  (None, None, None, 64)       0         ['yolo_v8_head_2_box_1[0][0]']\n",
      " ZeroPadding2D)                                                                                   \n",
      "                                                                                                  \n",
      " yolo_v8_head_2_class_2_con  (None, None, None, 128)      147456    ['yolo_v8_head_2_class_2_pad[0\n",
      " v (Conv2D)                                                         ][0]']                        \n",
      "                                                                                                  \n",
      " yolo_v8_head_3_box_2_pad (  (None, None, None, 64)       0         ['yolo_v8_head_3_box_1[0][0]']\n",
      " ZeroPadding2D)                                                                                   \n",
      "                                                                                                  \n",
      " yolo_v8_head_3_class_2_con  (None, None, None, 128)      147456    ['yolo_v8_head_3_class_2_pad[0\n",
      " v (Conv2D)                                                         ][0]']                        \n",
      "                                                                                                  \n",
      " yolo_v8_head_1_box_2_conv   (None, None, None, 64)       36864     ['yolo_v8_head_1_box_2_pad[0][\n",
      " (Conv2D)                                                           0]']                          \n",
      "                                                                                                  \n",
      " yolo_v8_head_1_class_2_bn   (None, None, None, 128)      512       ['yolo_v8_head_1_class_2_conv[\n",
      " (BatchNormalization)                                               0][0]']                       \n",
      "                                                                                                  \n",
      " yolo_v8_head_2_box_2_conv   (None, None, None, 64)       36864     ['yolo_v8_head_2_box_2_pad[0][\n",
      " (Conv2D)                                                           0]']                          \n",
      "                                                                                                  \n",
      " yolo_v8_head_2_class_2_bn   (None, None, None, 128)      512       ['yolo_v8_head_2_class_2_conv[\n",
      " (BatchNormalization)                                               0][0]']                       \n",
      "                                                                                                  \n",
      " yolo_v8_head_3_box_2_conv   (None, None, None, 64)       36864     ['yolo_v8_head_3_box_2_pad[0][\n",
      " (Conv2D)                                                           0]']                          \n",
      "                                                                                                  \n",
      " yolo_v8_head_3_class_2_bn   (None, None, None, 128)      512       ['yolo_v8_head_3_class_2_conv[\n",
      " (BatchNormalization)                                               0][0]']                       \n",
      "                                                                                                  \n",
      " yolo_v8_head_1_box_2_bn (B  (None, None, None, 64)       256       ['yolo_v8_head_1_box_2_conv[0]\n",
      " atchNormalization)                                                 [0]']                         \n",
      "                                                                                                  \n",
      " yolo_v8_head_1_class_2 (Ac  (None, None, None, 128)      0         ['yolo_v8_head_1_class_2_bn[0]\n",
      " tivation)                                                          [0]']                         \n",
      "                                                                                                  \n",
      " yolo_v8_head_2_box_2_bn (B  (None, None, None, 64)       256       ['yolo_v8_head_2_box_2_conv[0]\n",
      " atchNormalization)                                                 [0]']                         \n",
      "                                                                                                  \n",
      " yolo_v8_head_2_class_2 (Ac  (None, None, None, 128)      0         ['yolo_v8_head_2_class_2_bn[0]\n",
      " tivation)                                                          [0]']                         \n",
      "                                                                                                  \n",
      " yolo_v8_head_3_box_2_bn (B  (None, None, None, 64)       256       ['yolo_v8_head_3_box_2_conv[0]\n",
      " atchNormalization)                                                 [0]']                         \n",
      "                                                                                                  \n",
      " yolo_v8_head_3_class_2 (Ac  (None, None, None, 128)      0         ['yolo_v8_head_3_class_2_bn[0]\n",
      " tivation)                                                          [0]']                         \n",
      "                                                                                                  \n",
      " yolo_v8_head_1_box_2 (Acti  (None, None, None, 64)       0         ['yolo_v8_head_1_box_2_bn[0][0\n",
      " vation)                                                            ]']                           \n",
      "                                                                                                  \n",
      " yolo_v8_head_1_class_3_con  (None, None, None, 2)        258       ['yolo_v8_head_1_class_2[0][0]\n",
      " v (Conv2D)                                                         ']                            \n",
      "                                                                                                  \n",
      " yolo_v8_head_2_box_2 (Acti  (None, None, None, 64)       0         ['yolo_v8_head_2_box_2_bn[0][0\n",
      " vation)                                                            ]']                           \n",
      "                                                                                                  \n",
      " yolo_v8_head_2_class_3_con  (None, None, None, 2)        258       ['yolo_v8_head_2_class_2[0][0]\n",
      " v (Conv2D)                                                         ']                            \n",
      "                                                                                                  \n",
      " yolo_v8_head_3_box_2 (Acti  (None, None, None, 64)       0         ['yolo_v8_head_3_box_2_bn[0][0\n",
      " vation)                                                            ]']                           \n",
      "                                                                                                  \n",
      " yolo_v8_head_3_class_3_con  (None, None, None, 2)        258       ['yolo_v8_head_3_class_2[0][0]\n",
      " v (Conv2D)                                                         ']                            \n",
      "                                                                                                  \n",
      " yolo_v8_head_1_box_3_conv   (None, None, None, 64)       4160      ['yolo_v8_head_1_box_2[0][0]']\n",
      " (Conv2D)                                                                                         \n",
      "                                                                                                  \n",
      " yolo_v8_head_1_classifier   (None, None, None, 2)        0         ['yolo_v8_head_1_class_3_conv[\n",
      " (Activation)                                                       0][0]']                       \n",
      "                                                                                                  \n",
      " yolo_v8_head_2_box_3_conv   (None, None, None, 64)       4160      ['yolo_v8_head_2_box_2[0][0]']\n",
      " (Conv2D)                                                                                         \n",
      "                                                                                                  \n",
      " yolo_v8_head_2_classifier   (None, None, None, 2)        0         ['yolo_v8_head_2_class_3_conv[\n",
      " (Activation)                                                       0][0]']                       \n",
      "                                                                                                  \n",
      " yolo_v8_head_3_box_3_conv   (None, None, None, 64)       4160      ['yolo_v8_head_3_box_2[0][0]']\n",
      " (Conv2D)                                                                                         \n",
      "                                                                                                  \n",
      " yolo_v8_head_3_classifier   (None, None, None, 2)        0         ['yolo_v8_head_3_class_3_conv[\n",
      " (Activation)                                                       0][0]']                       \n",
      "                                                                                                  \n",
      " tf.concat_13 (TFOpLambda)   (None, None, None, 66)       0         ['yolo_v8_head_1_box_3_conv[0]\n",
      "                                                                    [0]',                         \n",
      "                                                                     'yolo_v8_head_1_classifier[0]\n",
      "                                                                    [0]']                         \n",
      "                                                                                                  \n",
      " tf.concat_14 (TFOpLambda)   (None, None, None, 66)       0         ['yolo_v8_head_2_box_3_conv[0]\n",
      "                                                                    [0]',                         \n",
      "                                                                     'yolo_v8_head_2_classifier[0]\n",
      "                                                                    [0]']                         \n",
      "                                                                                                  \n",
      " tf.concat_15 (TFOpLambda)   (None, None, None, 66)       0         ['yolo_v8_head_3_box_3_conv[0]\n",
      "                                                                    [0]',                         \n",
      "                                                                     'yolo_v8_head_3_classifier[0]\n",
      "                                                                    [0]']                         \n",
      "                                                                                                  \n",
      " yolo_v8_head_1_output_resh  (None, None, 66)             0         ['tf.concat_13[0][0]']        \n",
      " ape (Reshape)                                                                                    \n",
      "                                                                                                  \n",
      " yolo_v8_head_2_output_resh  (None, None, 66)             0         ['tf.concat_14[0][0]']        \n",
      " ape (Reshape)                                                                                    \n",
      "                                                                                                  \n",
      " yolo_v8_head_3_output_resh  (None, None, 66)             0         ['tf.concat_15[0][0]']        \n",
      " ape (Reshape)                                                                                    \n",
      "                                                                                                  \n",
      " tf.concat_16 (TFOpLambda)   (None, None, 66)             0         ['yolo_v8_head_1_output_reshap\n",
      "                                                                    e[0][0]',                     \n",
      "                                                                     'yolo_v8_head_2_output_reshap\n",
      "                                                                    e[0][0]',                     \n",
      "                                                                     'yolo_v8_head_3_output_reshap\n",
      "                                                                    e[0][0]']                     \n",
      "                                                                                                  \n",
      " box_outputs (Activation)    (None, None, 66)             0         ['tf.concat_16[0][0]']        \n",
      "                                                                                                  \n",
      " tf.__operators__.getitem (  (None, None, 64)             0         ['box_outputs[0][0]']         \n",
      " SlicingOpLambda)                                                                                 \n",
      "                                                                                                  \n",
      " tf.__operators__.getitem_1  (None, None, 2)              0         ['box_outputs[0][0]']         \n",
      "  (SlicingOpLambda)                                                                               \n",
      "                                                                                                  \n",
      " box (Concatenate)           (None, None, 64)             0         ['tf.__operators__.getitem[0][\n",
      "                                                                    0]']                          \n",
      "                                                                                                  \n",
      " class (Concatenate)         (None, None, 2)              0         ['tf.__operators__.getitem_1[0\n",
      "                                                                    ][0]']                        \n",
      "                                                                                                  \n",
      " non_max_suppression (NonMa  multiple                     0         []                            \n",
      " xSuppression)                                                                                    \n",
      "                                                                                                  \n",
      " yolov8_label_encoder (YOLO  multiple                     0         []                            \n",
      " V8LabelEncoder)                                                                                  \n",
      "                                                                                                  \n",
      "==================================================================================================\n",
      "Total params: 17877574 (68.20 MB)\n",
      "Trainable params: 12776294 (48.74 MB)\n",
      "Non-trainable params: 5101280 (19.46 MB)\n",
      "__________________________________________________________________________________________________\n"
     ]
    }
   ],
   "source": [
    "yolo = keras_cv.models.YOLOV8Detector(\n",
    "    num_classes=len(class_mapping),\n",
    "    bounding_box_format=\"xyxy\",\n",
    "    backbone=backbone,\n",
    "    fpn_depth=1\n",
    ")\n",
    "yolo.summary()"
   ]
  },
  {
   "cell_type": "code",
   "execution_count": 18,
   "metadata": {},
   "outputs": [],
   "source": [
    "#for layer in yolo.layers:\n",
    "#    if \"yolo_v8_head\" in layer.name:\n",
    "#        #print(layer.name + \" - \" + str(layer.trainable))\n",
    "#        layer.trainable = True\n",
    "#    else:\n",
    "#        layer.trainable = False\n",
    "#        \n",
    "#yolo.summary()"
   ]
  },
  {
   "cell_type": "markdown",
   "metadata": {
    "id": "AdGB9Hnc9vgu"
   },
   "source": [
    "## Compile the Model"
   ]
  },
  {
   "cell_type": "code",
   "execution_count": 19,
   "metadata": {
    "id": "sY6tk0O9MiAc"
   },
   "outputs": [],
   "source": [
    "#yolo.load_weights(\"model-s-onlyhead-test2.h5\")\n",
    "#yolo = keras_cv.models.load(\"model.h5\")"
   ]
  },
  {
   "cell_type": "code",
   "execution_count": 20,
   "metadata": {
    "id": "srCan0bg9vgu"
   },
   "outputs": [],
   "source": [
    "optimizer = tf.keras.optimizers.AdamW(\n",
    "    learning_rate=LEARNING_RATE,\n",
    "    global_clipnorm=GLOBAL_CLIPNORM,\n",
    ")\n",
    "\n",
    "yolo.compile(\n",
    "    optimizer=optimizer, classification_loss=\"binary_crossentropy\", box_loss=\"ciou\"\n",
    ")\n",
    "#yolo.summary()"
   ]
  },
  {
   "cell_type": "code",
   "execution_count": 21,
   "metadata": {
    "id": "C48F0vhG9vgu"
   },
   "outputs": [],
   "source": [
    "class EvaluateCOCOMetricsCallback(keras.callbacks.Callback):\n",
    "    def __init__(self, data, save_path):\n",
    "        super().__init__()\n",
    "        self.data = data\n",
    "        self.metrics = keras_cv.metrics.BoxCOCOMetrics(\n",
    "            bounding_box_format=\"xyxy\",\n",
    "            evaluate_freq=1e9,\n",
    "        )\n",
    "\n",
    "        self.save_path = save_path\n",
    "        #self.best_map = -1.0\n",
    "        self.best_map = 999\n",
    "\n",
    "    def on_epoch_end(self, epoch, logs):\n",
    "        self.metrics.reset_state()\n",
    "        #for batch in self.data:\n",
    "        #    images, y_true = batch[0], batch[1]\n",
    "        #    y_pred = self.model.predict(images, verbose=0)\n",
    "        #    self.metrics.update_state(y_true, y_pred)\n",
    "\n",
    "        #metrics = self.metrics.result(force=False)\n",
    "        #logs.update(metrics)\n",
    "\n",
    "        #print(metrics)\n",
    "        #current_map = metrics[\"MaP\"]\n",
    "        current_map = logs[\"val_loss\"]\n",
    "        if current_map < self.best_map:\n",
    "            self.best_map = current_map\n",
    "            now = datetime.now()\n",
    "            #self.model.save(self.save_path + \"-test2\"+ now.strftime(\"-%m%d%Y-%H%M%S\") + \".h5\")\n",
    "            self.model.save(self.save_path + \"-test2.h5\")\n",
    "\n",
    "        return logs\n"
   ]
  },
  {
   "cell_type": "code",
   "execution_count": 22,
   "metadata": {},
   "outputs": [],
   "source": [
    "#yolo.save(\"model_3ep.h5\")"
   ]
  },
  {
   "cell_type": "markdown",
   "metadata": {
    "id": "JlPTTQHy9vgu"
   },
   "source": [
    "## Train the Model"
   ]
  },
  {
   "cell_type": "code",
   "execution_count": 23,
   "metadata": {
    "colab": {
     "base_uri": "https://localhost:8080/"
    },
    "id": "A7fqFHdG9vgu",
    "outputId": "13dd31b3-eb16-4cbd-8472-6a84a9a9d7bd"
   },
   "outputs": [
    {
     "name": "stdout",
     "output_type": "stream",
     "text": [
      "Epoch 1/50\n"
     ]
    },
    {
     "name": "stderr",
     "output_type": "stream",
     "text": [
      "2024-02-06 17:59:26.525972: I external/local_xla/xla/stream_executor/cuda/cuda_dnn.cc:454] Loaded cuDNN version 8904\n",
      "2024-02-06 17:59:27.194581: I external/local_tsl/tsl/platform/default/subprocess.cc:304] Start cannot spawn child process: No such file or directory\n",
      "2024-02-06 17:59:30.252137: I external/local_tsl/tsl/platform/default/subprocess.cc:304] Start cannot spawn child process: No such file or directory\n",
      "2024-02-06 17:59:45.205899: W external/local_tsl/tsl/framework/bfc_allocator.cc:296] Allocator (GPU_0_bfc) ran out of memory trying to allocate 1.05GiB with freed_by_count=0. The caller indicates that this is not a failure, but this may mean that there could be performance gains if more memory were available.\n",
      "2024-02-06 17:59:45.287117: W external/local_tsl/tsl/framework/bfc_allocator.cc:296] Allocator (GPU_0_bfc) ran out of memory trying to allocate 1.05GiB with freed_by_count=0. The caller indicates that this is not a failure, but this may mean that there could be performance gains if more memory were available.\n",
      "2024-02-06 17:59:46.625765: W external/local_tsl/tsl/framework/bfc_allocator.cc:296] Allocator (GPU_0_bfc) ran out of memory trying to allocate 2.16GiB with freed_by_count=0. The caller indicates that this is not a failure, but this may mean that there could be performance gains if more memory were available.\n",
      "2024-02-06 17:59:46.718197: W external/local_tsl/tsl/framework/bfc_allocator.cc:296] Allocator (GPU_0_bfc) ran out of memory trying to allocate 2.16GiB with freed_by_count=0. The caller indicates that this is not a failure, but this may mean that there could be performance gains if more memory were available.\n",
      "2024-02-06 17:59:47.619693: W external/local_tsl/tsl/framework/bfc_allocator.cc:296] Allocator (GPU_0_bfc) ran out of memory trying to allocate 2.10GiB with freed_by_count=0. The caller indicates that this is not a failure, but this may mean that there could be performance gains if more memory were available.\n",
      "2024-02-06 17:59:47.699716: W external/local_tsl/tsl/framework/bfc_allocator.cc:296] Allocator (GPU_0_bfc) ran out of memory trying to allocate 2.10GiB with freed_by_count=0. The caller indicates that this is not a failure, but this may mean that there could be performance gains if more memory were available.\n",
      "2024-02-06 17:59:50.109137: W external/local_tsl/tsl/framework/bfc_allocator.cc:296] Allocator (GPU_0_bfc) ran out of memory trying to allocate 4.17GiB with freed_by_count=0. The caller indicates that this is not a failure, but this may mean that there could be performance gains if more memory were available.\n",
      "2024-02-06 17:59:50.219378: W external/local_tsl/tsl/framework/bfc_allocator.cc:296] Allocator (GPU_0_bfc) ran out of memory trying to allocate 4.17GiB with freed_by_count=0. The caller indicates that this is not a failure, but this may mean that there could be performance gains if more memory were available.\n",
      "2024-02-06 17:59:51.230892: W external/local_tsl/tsl/framework/bfc_allocator.cc:296] Allocator (GPU_0_bfc) ran out of memory trying to allocate 4.13GiB with freed_by_count=0. The caller indicates that this is not a failure, but this may mean that there could be performance gains if more memory were available.\n",
      "2024-02-06 17:59:51.344497: W external/local_tsl/tsl/framework/bfc_allocator.cc:296] Allocator (GPU_0_bfc) ran out of memory trying to allocate 4.13GiB with freed_by_count=0. The caller indicates that this is not a failure, but this may mean that there could be performance gains if more memory were available.\n",
      "2024-02-06 17:59:53.621223: I external/local_xla/xla/service/service.cc:168] XLA service 0x7f96850c19b0 initialized for platform CUDA (this does not guarantee that XLA will be used). Devices:\n",
      "2024-02-06 17:59:53.621303: I external/local_xla/xla/service/service.cc:176]   StreamExecutor device (0): NVIDIA GeForce RTX 3050 Laptop GPU, Compute Capability 8.6\n",
      "2024-02-06 17:59:53.694385: I tensorflow/compiler/mlir/tensorflow/utils/dump_mlir_util.cc:269] disabling MLIR crash reproducer, set env var `MLIR_CRASH_REPRODUCER_DIRECTORY` to enable.\n",
      "WARNING: All log messages before absl::InitializeLog() is called are written to STDERR\n",
      "I0000 00:00:1707238793.851253   18383 device_compiler.h:186] Compiled cluster using XLA!  This line is logged at most once for the lifetime of the process.\n"
     ]
    },
    {
     "name": "stdout",
     "output_type": "stream",
     "text": [
      "1912/1912 [==============================] - ETA: 0s - loss: 10.7402 - box_loss: 1.9373 - class_loss: 8.8029"
     ]
    },
    {
     "name": "stderr",
     "output_type": "stream",
     "text": [
      "2024-02-06 18:06:33.843070: W tensorflow/core/kernels/data/prefetch_autotuner.cc:52] Prefetch autotuner tried to allocate 9830528 bytes after encountering the first element of size 9830528 bytes.This already causes the autotune ram budget to be exceeded. To stay within the ram budget, either increase the ram budget or reduce element size\n"
     ]
    },
    {
     "name": "stdout",
     "output_type": "stream",
     "text": [
      "WARNING:tensorflow:Found duplicated `Variable`s in Model's `weights`. This is usually caused by `Variable`s being shared by Layers in the Model. These `Variable`s will be treated as separate `Variable`s when the Model is restored. To avoid this, please save with `save_format=\"tf\"`.\n"
     ]
    },
    {
     "name": "stderr",
     "output_type": "stream",
     "text": [
      "/home/andrea/.local/lib/python3.10/site-packages/keras/src/engine/training.py:3103: UserWarning: You are saving your model as an HDF5 file via `model.save()`. This file format is considered legacy. We recommend using instead the native Keras format, e.g. `model.save('my_model.keras')`.\n",
      "  saving_api.save_model(\n"
     ]
    },
    {
     "name": "stdout",
     "output_type": "stream",
     "text": [
      "1912/1912 [==============================] - 491s 221ms/step - loss: 10.7402 - box_loss: 1.9373 - class_loss: 8.8029 - val_loss: 4.8350 - val_box_loss: 2.7123 - val_class_loss: 2.1227 - lr: 0.0010\n",
      "Epoch 2/50\n",
      "1912/1912 [==============================] - ETA: 0s - loss: 2.8654 - box_loss: 1.8566 - class_loss: 1.0089"
     ]
    },
    {
     "name": "stderr",
     "output_type": "stream",
     "text": [
      "2024-02-06 18:13:36.087132: W tensorflow/core/kernels/data/prefetch_autotuner.cc:52] Prefetch autotuner tried to allocate 9830528 bytes after encountering the first element of size 9830528 bytes.This already causes the autotune ram budget to be exceeded. To stay within the ram budget, either increase the ram budget or reduce element size\n"
     ]
    },
    {
     "name": "stdout",
     "output_type": "stream",
     "text": [
      "WARNING:tensorflow:Found duplicated `Variable`s in Model's `weights`. This is usually caused by `Variable`s being shared by Layers in the Model. These `Variable`s will be treated as separate `Variable`s when the Model is restored. To avoid this, please save with `save_format=\"tf\"`.\n",
      "1912/1912 [==============================] - 416s 217ms/step - loss: 2.8654 - box_loss: 1.8566 - class_loss: 1.0089 - val_loss: 4.1260 - val_box_loss: 2.3302 - val_class_loss: 1.7958 - lr: 0.0010\n",
      "Epoch 3/50\n"
     ]
    },
    {
     "name": "stderr",
     "output_type": "stream",
     "text": [
      "2024-02-06 18:14:05.888502: W tensorflow/core/kernels/data/prefetch_autotuner.cc:52] Prefetch autotuner tried to allocate 9830528 bytes after encountering the first element of size 9830528 bytes.This already causes the autotune ram budget to be exceeded. To stay within the ram budget, either increase the ram budget or reduce element size\n"
     ]
    },
    {
     "name": "stdout",
     "output_type": "stream",
     "text": [
      "1912/1912 [==============================] - ETA: 0s - loss: 2.8156 - box_loss: 1.8018 - class_loss: 1.0138"
     ]
    },
    {
     "name": "stderr",
     "output_type": "stream",
     "text": [
      "2024-02-06 18:20:29.043668: W tensorflow/core/kernels/data/prefetch_autotuner.cc:52] Prefetch autotuner tried to allocate 9830528 bytes after encountering the first element of size 9830528 bytes.This already causes the autotune ram budget to be exceeded. To stay within the ram budget, either increase the ram budget or reduce element size\n"
     ]
    },
    {
     "name": "stdout",
     "output_type": "stream",
     "text": [
      "1912/1912 [==============================] - 411s 215ms/step - loss: 2.8156 - box_loss: 1.8018 - class_loss: 1.0138 - val_loss: 4.1739 - val_box_loss: 2.1304 - val_class_loss: 2.0436 - lr: 0.0010\n",
      "Epoch 4/50\n"
     ]
    },
    {
     "name": "stderr",
     "output_type": "stream",
     "text": [
      "2024-02-06 18:20:57.526960: W tensorflow/core/kernels/data/prefetch_autotuner.cc:52] Prefetch autotuner tried to allocate 9830528 bytes after encountering the first element of size 9830528 bytes.This already causes the autotune ram budget to be exceeded. To stay within the ram budget, either increase the ram budget or reduce element size\n"
     ]
    },
    {
     "name": "stdout",
     "output_type": "stream",
     "text": [
      "1912/1912 [==============================] - ETA: 0s - loss: 2.7005 - box_loss: 1.7470 - class_loss: 0.9535"
     ]
    },
    {
     "name": "stderr",
     "output_type": "stream",
     "text": [
      "2024-02-06 18:27:21.950288: W tensorflow/core/kernels/data/prefetch_autotuner.cc:52] Prefetch autotuner tried to allocate 9830528 bytes after encountering the first element of size 9830528 bytes.This already causes the autotune ram budget to be exceeded. To stay within the ram budget, either increase the ram budget or reduce element size\n"
     ]
    },
    {
     "name": "stdout",
     "output_type": "stream",
     "text": [
      "1912/1912 [==============================] - 412s 215ms/step - loss: 2.7005 - box_loss: 1.7470 - class_loss: 0.9535 - val_loss: 4.2433 - val_box_loss: 2.0996 - val_class_loss: 2.1437 - lr: 0.0010\n",
      "Epoch 5/50\n",
      "1912/1912 [==============================] - 417s 218ms/step - loss: 2.6709 - box_loss: 1.7161 - class_loss: 0.9549 - val_loss: 4.2067 - val_box_loss: 2.0522 - val_class_loss: 2.1546 - lr: 0.0010\n",
      "Epoch 6/50\n",
      "1912/1912 [==============================] - ETA: 0s - loss: 2.6141 - box_loss: 1.6858 - class_loss: 0.9283"
     ]
    },
    {
     "name": "stderr",
     "output_type": "stream",
     "text": [
      "2024-02-06 18:41:17.104480: W tensorflow/core/kernels/data/prefetch_autotuner.cc:52] Prefetch autotuner tried to allocate 9830528 bytes after encountering the first element of size 9830528 bytes.This already causes the autotune ram budget to be exceeded. To stay within the ram budget, either increase the ram budget or reduce element size\n"
     ]
    },
    {
     "name": "stdout",
     "output_type": "stream",
     "text": [
      "WARNING:tensorflow:Found duplicated `Variable`s in Model's `weights`. This is usually caused by `Variable`s being shared by Layers in the Model. These `Variable`s will be treated as separate `Variable`s when the Model is restored. To avoid this, please save with `save_format=\"tf\"`.\n",
      "1912/1912 [==============================] - 418s 219ms/step - loss: 2.6141 - box_loss: 1.6858 - class_loss: 0.9283 - val_loss: 3.7478 - val_box_loss: 1.8149 - val_class_loss: 1.9329 - lr: 0.0010\n",
      "Epoch 7/50\n"
     ]
    },
    {
     "name": "stderr",
     "output_type": "stream",
     "text": [
      "2024-02-06 18:41:46.997316: W tensorflow/core/kernels/data/prefetch_autotuner.cc:52] Prefetch autotuner tried to allocate 9830528 bytes after encountering the first element of size 9830528 bytes.This already causes the autotune ram budget to be exceeded. To stay within the ram budget, either increase the ram budget or reduce element size\n"
     ]
    },
    {
     "name": "stdout",
     "output_type": "stream",
     "text": [
      "1912/1912 [==============================] - 409s 214ms/step - loss: 2.5222 - box_loss: 1.6422 - class_loss: 0.8800 - val_loss: 4.0699 - val_box_loss: 1.9163 - val_class_loss: 2.1535 - lr: 0.0010\n",
      "Epoch 8/50\n",
      "1912/1912 [==============================] - 405s 212ms/step - loss: 2.4401 - box_loss: 1.5965 - class_loss: 0.8436 - val_loss: 3.7797 - val_box_loss: 1.8096 - val_class_loss: 1.9701 - lr: 0.0010\n",
      "Epoch 9/50\n"
     ]
    },
    {
     "name": "stderr",
     "output_type": "stream",
     "text": [
      "2024-02-06 18:55:22.336539: W tensorflow/core/kernels/data/prefetch_autotuner.cc:52] Prefetch autotuner tried to allocate 9830528 bytes after encountering the first element of size 9830528 bytes.This already causes the autotune ram budget to be exceeded. To stay within the ram budget, either increase the ram budget or reduce element size\n"
     ]
    },
    {
     "name": "stdout",
     "output_type": "stream",
     "text": [
      "1912/1912 [==============================] - 405s 211ms/step - loss: 2.3933 - box_loss: 1.5827 - class_loss: 0.8106 - val_loss: 3.8248 - val_box_loss: 1.8275 - val_class_loss: 1.9973 - lr: 0.0010\n",
      "Epoch 10/50\n"
     ]
    },
    {
     "name": "stderr",
     "output_type": "stream",
     "text": [
      "2024-02-06 19:02:07.386297: W tensorflow/core/kernels/data/prefetch_autotuner.cc:52] Prefetch autotuner tried to allocate 9830528 bytes after encountering the first element of size 9830528 bytes.This already causes the autotune ram budget to be exceeded. To stay within the ram budget, either increase the ram budget or reduce element size\n"
     ]
    },
    {
     "name": "stdout",
     "output_type": "stream",
     "text": [
      "1912/1912 [==============================] - ETA: 0s - loss: 2.3165 - box_loss: 1.5408 - class_loss: 0.7757"
     ]
    },
    {
     "name": "stderr",
     "output_type": "stream",
     "text": [
      "2024-02-06 19:08:24.106779: W tensorflow/core/kernels/data/prefetch_autotuner.cc:52] Prefetch autotuner tried to allocate 9830528 bytes after encountering the first element of size 9830528 bytes.This already causes the autotune ram budget to be exceeded. To stay within the ram budget, either increase the ram budget or reduce element size\n"
     ]
    },
    {
     "name": "stdout",
     "output_type": "stream",
     "text": [
      "WARNING:tensorflow:Found duplicated `Variable`s in Model's `weights`. This is usually caused by `Variable`s being shared by Layers in the Model. These `Variable`s will be treated as separate `Variable`s when the Model is restored. To avoid this, please save with `save_format=\"tf\"`.\n",
      "1912/1912 [==============================] - 407s 212ms/step - loss: 2.3165 - box_loss: 1.5408 - class_loss: 0.7757 - val_loss: 3.6432 - val_box_loss: 1.8059 - val_class_loss: 1.8373 - lr: 0.0010\n",
      "Epoch 11/50\n"
     ]
    },
    {
     "name": "stderr",
     "output_type": "stream",
     "text": [
      "2024-02-06 19:08:54.518749: W tensorflow/core/kernels/data/prefetch_autotuner.cc:52] Prefetch autotuner tried to allocate 9830528 bytes after encountering the first element of size 9830528 bytes.This already causes the autotune ram budget to be exceeded. To stay within the ram budget, either increase the ram budget or reduce element size\n"
     ]
    },
    {
     "name": "stdout",
     "output_type": "stream",
     "text": [
      "1912/1912 [==============================] - 402s 210ms/step - loss: 2.2617 - box_loss: 1.5020 - class_loss: 0.7597 - val_loss: 3.7609 - val_box_loss: 1.9527 - val_class_loss: 1.8082 - lr: 0.0010\n",
      "Epoch 12/50\n",
      "1912/1912 [==============================] - 403s 211ms/step - loss: 2.2172 - box_loss: 1.4826 - class_loss: 0.7347 - val_loss: 3.7639 - val_box_loss: 1.8228 - val_class_loss: 1.9411 - lr: 0.0010\n",
      "Epoch 13/50\n",
      "1912/1912 [==============================] - ETA: 0s - loss: 2.1868 - box_loss: 1.4655 - class_loss: 0.7213WARNING:tensorflow:Found duplicated `Variable`s in Model's `weights`. This is usually caused by `Variable`s being shared by Layers in the Model. These `Variable`s will be treated as separate `Variable`s when the Model is restored. To avoid this, please save with `save_format=\"tf\"`.\n",
      "1912/1912 [==============================] - 405s 212ms/step - loss: 2.1868 - box_loss: 1.4655 - class_loss: 0.7213 - val_loss: 3.5349 - val_box_loss: 1.8453 - val_class_loss: 1.6895 - lr: 0.0010\n",
      "Epoch 14/50\n",
      "1912/1912 [==============================] - 403s 210ms/step - loss: 2.1448 - box_loss: 1.4395 - class_loss: 0.7053 - val_loss: 3.6205 - val_box_loss: 1.7703 - val_class_loss: 1.8502 - lr: 0.0010\n",
      "Epoch 15/50\n",
      "   1/1912 [..............................] - ETA: 16:20 - loss: 2.5772 - box_loss: 0.2567 - class_loss: 2.3205"
     ]
    },
    {
     "name": "stderr",
     "output_type": "stream",
     "text": [
      "2024-02-06 19:35:48.529425: W tensorflow/core/kernels/data/prefetch_autotuner.cc:52] Prefetch autotuner tried to allocate 9830528 bytes after encountering the first element of size 9830528 bytes.This already causes the autotune ram budget to be exceeded. To stay within the ram budget, either increase the ram budget or reduce element size\n"
     ]
    },
    {
     "name": "stdout",
     "output_type": "stream",
     "text": [
      "1912/1912 [==============================] - ETA: 0s - loss: 2.1167 - box_loss: 1.4238 - class_loss: 0.6929WARNING:tensorflow:Found duplicated `Variable`s in Model's `weights`. This is usually caused by `Variable`s being shared by Layers in the Model. These `Variable`s will be treated as separate `Variable`s when the Model is restored. To avoid this, please save with `save_format=\"tf\"`.\n",
      "1912/1912 [==============================] - 402s 210ms/step - loss: 2.1167 - box_loss: 1.4238 - class_loss: 0.6929 - val_loss: 3.4377 - val_box_loss: 1.7342 - val_class_loss: 1.7035 - lr: 0.0010\n",
      "Epoch 16/50\n"
     ]
    },
    {
     "name": "stderr",
     "output_type": "stream",
     "text": [
      "2024-02-06 19:42:31.016192: W tensorflow/core/kernels/data/prefetch_autotuner.cc:52] Prefetch autotuner tried to allocate 9830528 bytes after encountering the first element of size 9830528 bytes.This already causes the autotune ram budget to be exceeded. To stay within the ram budget, either increase the ram budget or reduce element size\n"
     ]
    },
    {
     "name": "stdout",
     "output_type": "stream",
     "text": [
      "1912/1912 [==============================] - 400s 209ms/step - loss: 2.0708 - box_loss: 1.4073 - class_loss: 0.6635 - val_loss: 3.8385 - val_box_loss: 1.9101 - val_class_loss: 1.9284 - lr: 0.0010\n",
      "Epoch 17/50\n",
      "1912/1912 [==============================] - ETA: 0s - loss: 2.0394 - box_loss: 1.3948 - class_loss: 0.6445"
     ]
    },
    {
     "name": "stderr",
     "output_type": "stream",
     "text": [
      "2024-02-06 19:56:03.787408: W tensorflow/core/kernels/data/prefetch_autotuner.cc:52] Prefetch autotuner tried to allocate 9830528 bytes after encountering the first element of size 9830528 bytes.This already causes the autotune ram budget to be exceeded. To stay within the ram budget, either increase the ram budget or reduce element size\n"
     ]
    },
    {
     "name": "stdout",
     "output_type": "stream",
     "text": [
      "1912/1912 [==============================] - 397s 207ms/step - loss: 2.0394 - box_loss: 1.3948 - class_loss: 0.6445 - val_loss: 3.6379 - val_box_loss: 1.7949 - val_class_loss: 1.8429 - lr: 0.0010\n",
      "Epoch 18/50\n",
      "1912/1912 [==============================] - 400s 209ms/step - loss: 2.0177 - box_loss: 1.3878 - class_loss: 0.6299 - val_loss: 3.6278 - val_box_loss: 1.8568 - val_class_loss: 1.7710 - lr: 0.0010\n",
      "Epoch 19/50\n"
     ]
    },
    {
     "name": "stderr",
     "output_type": "stream",
     "text": [
      "2024-02-06 20:03:11.388720: W tensorflow/core/kernels/data/prefetch_autotuner.cc:52] Prefetch autotuner tried to allocate 9830528 bytes after encountering the first element of size 9830528 bytes.This already causes the autotune ram budget to be exceeded. To stay within the ram budget, either increase the ram budget or reduce element size\n"
     ]
    },
    {
     "name": "stdout",
     "output_type": "stream",
     "text": [
      "1912/1912 [==============================] - ETA: 0s - loss: 2.0128 - box_loss: 1.3896 - class_loss: 0.6232"
     ]
    },
    {
     "name": "stderr",
     "output_type": "stream",
     "text": [
      "2024-02-06 20:09:23.982936: W tensorflow/core/kernels/data/prefetch_autotuner.cc:52] Prefetch autotuner tried to allocate 9830528 bytes after encountering the first element of size 9830528 bytes.This already causes the autotune ram budget to be exceeded. To stay within the ram budget, either increase the ram budget or reduce element size\n"
     ]
    },
    {
     "name": "stdout",
     "output_type": "stream",
     "text": [
      "1912/1912 [==============================] - 400s 209ms/step - loss: 2.0128 - box_loss: 1.3896 - class_loss: 0.6232 - val_loss: 3.4924 - val_box_loss: 1.7070 - val_class_loss: 1.7854 - lr: 0.0010\n",
      "Epoch 20/50\n",
      "   1/1912 [..............................] - ETA: 16:12 - loss: 1.9411 - box_loss: 0.3714 - class_loss: 1.5696"
     ]
    },
    {
     "name": "stderr",
     "output_type": "stream",
     "text": [
      "2024-02-06 20:09:51.498960: W tensorflow/core/kernels/data/prefetch_autotuner.cc:52] Prefetch autotuner tried to allocate 9830528 bytes after encountering the first element of size 9830528 bytes.This already causes the autotune ram budget to be exceeded. To stay within the ram budget, either increase the ram budget or reduce element size\n"
     ]
    },
    {
     "name": "stdout",
     "output_type": "stream",
     "text": [
      "1912/1912 [==============================] - 401s 210ms/step - loss: 1.9654 - box_loss: 1.3497 - class_loss: 0.6158 - val_loss: 3.4712 - val_box_loss: 1.7217 - val_class_loss: 1.7495 - lr: 0.0010\n",
      "Epoch 21/50\n",
      "1912/1912 [==============================] - ETA: 0s - loss: 2.2265 - box_loss: 1.3912 - class_loss: 0.8353WARNING:tensorflow:Found duplicated `Variable`s in Model's `weights`. This is usually caused by `Variable`s being shared by Layers in the Model. These `Variable`s will be treated as separate `Variable`s when the Model is restored. To avoid this, please save with `save_format=\"tf\"`.\n",
      "1912/1912 [==============================] - 402s 210ms/step - loss: 2.2265 - box_loss: 1.3912 - class_loss: 0.8353 - val_loss: 2.8350 - val_box_loss: 1.6797 - val_class_loss: 1.1554 - lr: 1.0000e-04\n",
      "Epoch 22/50\n"
     ]
    },
    {
     "name": "stderr",
     "output_type": "stream",
     "text": [
      "2024-02-06 20:23:15.552635: W tensorflow/core/kernels/data/prefetch_autotuner.cc:52] Prefetch autotuner tried to allocate 9830528 bytes after encountering the first element of size 9830528 bytes.This already causes the autotune ram budget to be exceeded. To stay within the ram budget, either increase the ram budget or reduce element size\n"
     ]
    },
    {
     "name": "stdout",
     "output_type": "stream",
     "text": [
      "1912/1912 [==============================] - ETA: 0s - loss: 2.0447 - box_loss: 1.3424 - class_loss: 0.7023WARNING:tensorflow:Found duplicated `Variable`s in Model's `weights`. This is usually caused by `Variable`s being shared by Layers in the Model. These `Variable`s will be treated as separate `Variable`s when the Model is restored. To avoid this, please save with `save_format=\"tf\"`.\n",
      "1912/1912 [==============================] - 404s 211ms/step - loss: 2.0447 - box_loss: 1.3424 - class_loss: 0.7023 - val_loss: 2.7974 - val_box_loss: 1.6070 - val_class_loss: 1.1904 - lr: 1.0000e-04\n",
      "Epoch 23/50\n",
      "1912/1912 [==============================] - 402s 210ms/step - loss: 2.0093 - box_loss: 1.3436 - class_loss: 0.6657 - val_loss: 2.8606 - val_box_loss: 1.6080 - val_class_loss: 1.2526 - lr: 1.0000e-04\n",
      "Epoch 24/50\n"
     ]
    },
    {
     "name": "stderr",
     "output_type": "stream",
     "text": [
      "2024-02-06 20:36:41.988413: W tensorflow/core/kernels/data/prefetch_autotuner.cc:52] Prefetch autotuner tried to allocate 9830528 bytes after encountering the first element of size 9830528 bytes.This already causes the autotune ram budget to be exceeded. To stay within the ram budget, either increase the ram budget or reduce element size\n"
     ]
    },
    {
     "name": "stdout",
     "output_type": "stream",
     "text": [
      "1912/1912 [==============================] - 401s 209ms/step - loss: 1.9592 - box_loss: 1.3210 - class_loss: 0.6382 - val_loss: 2.9024 - val_box_loss: 1.6174 - val_class_loss: 1.2850 - lr: 1.0000e-04\n",
      "Epoch 25/50\n",
      "1912/1912 [==============================] - 401s 210ms/step - loss: 1.9270 - box_loss: 1.3129 - class_loss: 0.6141 - val_loss: 2.9305 - val_box_loss: 1.6122 - val_class_loss: 1.3183 - lr: 1.0000e-04\n",
      "Epoch 26/50\n",
      "1912/1912 [==============================] - 400s 209ms/step - loss: 1.8966 - box_loss: 1.2974 - class_loss: 0.5992 - val_loss: 2.9218 - val_box_loss: 1.5942 - val_class_loss: 1.3276 - lr: 1.0000e-04\n",
      "Epoch 27/50\n",
      "1912/1912 [==============================] - 396s 207ms/step - loss: 1.8886 - box_loss: 1.2956 - class_loss: 0.5930 - val_loss: 2.9365 - val_box_loss: 1.5858 - val_class_loss: 1.3508 - lr: 1.0000e-04\n",
      "Epoch 28/50\n",
      "1912/1912 [==============================] - ETA: 0s - loss: 2.1106 - box_loss: 1.3211 - class_loss: 0.7895WARNING:tensorflow:Found duplicated `Variable`s in Model's `weights`. This is usually caused by `Variable`s being shared by Layers in the Model. These `Variable`s will be treated as separate `Variable`s when the Model is restored. To avoid this, please save with `save_format=\"tf\"`.\n",
      "1912/1912 [==============================] - 401s 210ms/step - loss: 2.1106 - box_loss: 1.3211 - class_loss: 0.7895 - val_loss: 2.4694 - val_box_loss: 1.5118 - val_class_loss: 0.9575 - lr: 1.0000e-05\n",
      "Epoch 29/50\n",
      "1912/1912 [==============================] - ETA: 0s - loss: 1.9774 - box_loss: 1.2914 - class_loss: 0.6860WARNING:tensorflow:Found duplicated `Variable`s in Model's `weights`. This is usually caused by `Variable`s being shared by Layers in the Model. These `Variable`s will be treated as separate `Variable`s when the Model is restored. To avoid this, please save with `save_format=\"tf\"`.\n",
      "1912/1912 [==============================] - 402s 210ms/step - loss: 1.9774 - box_loss: 1.2914 - class_loss: 0.6860 - val_loss: 2.4414 - val_box_loss: 1.4901 - val_class_loss: 0.9513 - lr: 1.0000e-05\n",
      "Epoch 30/50\n",
      "1912/1912 [==============================] - ETA: 0s - loss: 1.9581 - box_loss: 1.2891 - class_loss: 0.6691WARNING:tensorflow:Found duplicated `Variable`s in Model's `weights`. This is usually caused by `Variable`s being shared by Layers in the Model. These `Variable`s will be treated as separate `Variable`s when the Model is restored. To avoid this, please save with `save_format=\"tf\"`.\n",
      "1912/1912 [==============================] - 402s 210ms/step - loss: 1.9581 - box_loss: 1.2891 - class_loss: 0.6691 - val_loss: 2.4220 - val_box_loss: 1.4951 - val_class_loss: 0.9269 - lr: 1.0000e-05\n",
      "Epoch 31/50\n"
     ]
    },
    {
     "name": "stderr",
     "output_type": "stream",
     "text": [
      "2024-02-06 21:24:09.394012: W tensorflow/core/kernels/data/prefetch_autotuner.cc:52] Prefetch autotuner tried to allocate 9830528 bytes after encountering the first element of size 9830528 bytes.This already causes the autotune ram budget to be exceeded. To stay within the ram budget, either increase the ram budget or reduce element size\n"
     ]
    },
    {
     "name": "stdout",
     "output_type": "stream",
     "text": [
      "1912/1912 [==============================] - ETA: 0s - loss: 1.9553 - box_loss: 1.2889 - class_loss: 0.6665"
     ]
    },
    {
     "name": "stderr",
     "output_type": "stream",
     "text": [
      "2024-02-06 21:30:22.854946: W tensorflow/core/kernels/data/prefetch_autotuner.cc:52] Prefetch autotuner tried to allocate 9830528 bytes after encountering the first element of size 9830528 bytes.This already causes the autotune ram budget to be exceeded. To stay within the ram budget, either increase the ram budget or reduce element size\n"
     ]
    },
    {
     "name": "stdout",
     "output_type": "stream",
     "text": [
      "1912/1912 [==============================] - 401s 209ms/step - loss: 1.9553 - box_loss: 1.2889 - class_loss: 0.6665 - val_loss: 2.4426 - val_box_loss: 1.4998 - val_class_loss: 0.9428 - lr: 1.0000e-05\n",
      "Epoch 32/50\n",
      "1912/1912 [==============================] - 400s 209ms/step - loss: 1.9412 - box_loss: 1.2849 - class_loss: 0.6563 - val_loss: 2.4797 - val_box_loss: 1.5042 - val_class_loss: 0.9755 - lr: 1.0000e-05\n",
      "Epoch 33/50\n",
      "1912/1912 [==============================] - 400s 209ms/step - loss: 1.9496 - box_loss: 1.2985 - class_loss: 0.6511 - val_loss: 2.4605 - val_box_loss: 1.4918 - val_class_loss: 0.9687 - lr: 1.0000e-05\n",
      "Epoch 34/50\n",
      "1912/1912 [==============================] - 399s 209ms/step - loss: 1.9265 - box_loss: 1.2879 - class_loss: 0.6387 - val_loss: 2.4988 - val_box_loss: 1.5128 - val_class_loss: 0.9860 - lr: 1.0000e-05\n",
      "Epoch 35/50\n",
      "1912/1912 [==============================] - 403s 210ms/step - loss: 1.9313 - box_loss: 1.2859 - class_loss: 0.6455 - val_loss: 2.4805 - val_box_loss: 1.5033 - val_class_loss: 0.9772 - lr: 1.0000e-05\n",
      "Epoch 36/50\n",
      "1912/1912 [==============================] - ETA: 0s - loss: 2.0014 - box_loss: 1.3000 - class_loss: 0.7014"
     ]
    },
    {
     "name": "stderr",
     "output_type": "stream",
     "text": [
      "2024-02-06 22:03:49.934180: W tensorflow/core/kernels/data/prefetch_autotuner.cc:52] Prefetch autotuner tried to allocate 9830528 bytes after encountering the first element of size 9830528 bytes.This already causes the autotune ram budget to be exceeded. To stay within the ram budget, either increase the ram budget or reduce element size\n"
     ]
    },
    {
     "name": "stdout",
     "output_type": "stream",
     "text": [
      "1912/1912 [==============================] - 403s 211ms/step - loss: 2.0014 - box_loss: 1.3000 - class_loss: 0.7014 - val_loss: 2.4447 - val_box_loss: 1.5071 - val_class_loss: 0.9376 - lr: 1.0000e-06\n",
      "Epoch 37/50\n"
     ]
    },
    {
     "name": "stderr",
     "output_type": "stream",
     "text": [
      "2024-02-06 22:04:17.760628: W tensorflow/core/kernels/data/prefetch_autotuner.cc:52] Prefetch autotuner tried to allocate 9830528 bytes after encountering the first element of size 9830528 bytes.This already causes the autotune ram budget to be exceeded. To stay within the ram budget, either increase the ram budget or reduce element size\n"
     ]
    },
    {
     "name": "stdout",
     "output_type": "stream",
     "text": [
      "1912/1912 [==============================] - ETA: 0s - loss: 1.9772 - box_loss: 1.2979 - class_loss: 0.6793WARNING:tensorflow:Found duplicated `Variable`s in Model's `weights`. This is usually caused by `Variable`s being shared by Layers in the Model. These `Variable`s will be treated as separate `Variable`s when the Model is restored. To avoid this, please save with `save_format=\"tf\"`.\n",
      "1912/1912 [==============================] - 405s 211ms/step - loss: 1.9772 - box_loss: 1.2979 - class_loss: 0.6793 - val_loss: 2.4090 - val_box_loss: 1.4806 - val_class_loss: 0.9284 - lr: 1.0000e-06\n",
      "Epoch 38/50\n",
      "1912/1912 [==============================] - ETA: 0s - loss: 1.9585 - box_loss: 1.2864 - class_loss: 0.6722WARNING:tensorflow:Found duplicated `Variable`s in Model's `weights`. This is usually caused by `Variable`s being shared by Layers in the Model. These `Variable`s will be treated as separate `Variable`s when the Model is restored. To avoid this, please save with `save_format=\"tf\"`.\n",
      "1912/1912 [==============================] - 405s 211ms/step - loss: 1.9585 - box_loss: 1.2864 - class_loss: 0.6722 - val_loss: 2.3778 - val_box_loss: 1.4840 - val_class_loss: 0.8938 - lr: 1.0000e-06\n",
      "Epoch 39/50\n",
      "1912/1912 [==============================] - ETA: 0s - loss: 1.9412 - box_loss: 1.2743 - class_loss: 0.6669WARNING:tensorflow:Found duplicated `Variable`s in Model's `weights`. This is usually caused by `Variable`s being shared by Layers in the Model. These `Variable`s will be treated as separate `Variable`s when the Model is restored. To avoid this, please save with `save_format=\"tf\"`.\n",
      "1912/1912 [==============================] - 403s 210ms/step - loss: 1.9412 - box_loss: 1.2743 - class_loss: 0.6669 - val_loss: 2.3374 - val_box_loss: 1.4794 - val_class_loss: 0.8580 - lr: 1.0000e-06\n",
      "Epoch 40/50\n",
      "1912/1912 [==============================] - ETA: 0s - loss: 1.9325 - box_loss: 1.2732 - class_loss: 0.6593WARNING:tensorflow:Found duplicated `Variable`s in Model's `weights`. This is usually caused by `Variable`s being shared by Layers in the Model. These `Variable`s will be treated as separate `Variable`s when the Model is restored. To avoid this, please save with `save_format=\"tf\"`.\n",
      "1912/1912 [==============================] - 403s 211ms/step - loss: 1.9325 - box_loss: 1.2732 - class_loss: 0.6593 - val_loss: 2.3227 - val_box_loss: 1.4656 - val_class_loss: 0.8571 - lr: 1.0000e-06\n",
      "Epoch 41/50\n",
      "1912/1912 [==============================] - 402s 210ms/step - loss: 1.9507 - box_loss: 1.2908 - class_loss: 0.6599 - val_loss: 2.3337 - val_box_loss: 1.5000 - val_class_loss: 0.8338 - lr: 1.0000e-06\n",
      "Epoch 42/50\n",
      "1912/1912 [==============================] - ETA: 0s - loss: 1.9409 - box_loss: 1.2863 - class_loss: 0.6546WARNING:tensorflow:Found duplicated `Variable`s in Model's `weights`. This is usually caused by `Variable`s being shared by Layers in the Model. These `Variable`s will be treated as separate `Variable`s when the Model is restored. To avoid this, please save with `save_format=\"tf\"`.\n",
      "1912/1912 [==============================] - 402s 210ms/step - loss: 1.9409 - box_loss: 1.2863 - class_loss: 0.6546 - val_loss: 2.3133 - val_box_loss: 1.4728 - val_class_loss: 0.8405 - lr: 1.0000e-06\n",
      "Epoch 43/50\n",
      "1912/1912 [==============================] - 400s 209ms/step - loss: 1.9394 - box_loss: 1.2830 - class_loss: 0.6564 - val_loss: 2.3365 - val_box_loss: 1.4805 - val_class_loss: 0.8561 - lr: 1.0000e-06\n",
      "Epoch 44/50\n",
      "1912/1912 [==============================] - 402s 210ms/step - loss: 1.9443 - box_loss: 1.2907 - class_loss: 0.6536 - val_loss: 2.3186 - val_box_loss: 1.4899 - val_class_loss: 0.8287 - lr: 1.0000e-06\n",
      "Epoch 45/50\n"
     ]
    },
    {
     "name": "stderr",
     "output_type": "stream",
     "text": [
      "2024-02-06 22:58:02.651964: W tensorflow/core/kernels/data/prefetch_autotuner.cc:52] Prefetch autotuner tried to allocate 9830528 bytes after encountering the first element of size 9830528 bytes.This already causes the autotune ram budget to be exceeded. To stay within the ram budget, either increase the ram budget or reduce element size\n"
     ]
    },
    {
     "name": "stdout",
     "output_type": "stream",
     "text": [
      "1912/1912 [==============================] - ETA: 0s - loss: 1.9381 - box_loss: 1.2826 - class_loss: 0.6555WARNING:tensorflow:Found duplicated `Variable`s in Model's `weights`. This is usually caused by `Variable`s being shared by Layers in the Model. These `Variable`s will be treated as separate `Variable`s when the Model is restored. To avoid this, please save with `save_format=\"tf\"`.\n",
      "1912/1912 [==============================] - 404s 211ms/step - loss: 1.9381 - box_loss: 1.2826 - class_loss: 0.6555 - val_loss: 2.3070 - val_box_loss: 1.4758 - val_class_loss: 0.8312 - lr: 1.0000e-06\n",
      "Epoch 46/50\n"
     ]
    },
    {
     "name": "stderr",
     "output_type": "stream",
     "text": [
      "2024-02-06 23:04:47.208144: W tensorflow/core/kernels/data/prefetch_autotuner.cc:52] Prefetch autotuner tried to allocate 9830528 bytes after encountering the first element of size 9830528 bytes.This already causes the autotune ram budget to be exceeded. To stay within the ram budget, either increase the ram budget or reduce element size\n"
     ]
    },
    {
     "name": "stdout",
     "output_type": "stream",
     "text": [
      "1912/1912 [==============================] - 403s 211ms/step - loss: 1.9397 - box_loss: 1.2880 - class_loss: 0.6517 - val_loss: 2.3356 - val_box_loss: 1.4896 - val_class_loss: 0.8460 - lr: 1.0000e-06\n",
      "Epoch 47/50\n",
      "1912/1912 [==============================] - 403s 211ms/step - loss: 1.9437 - box_loss: 1.2913 - class_loss: 0.6523 - val_loss: 2.3269 - val_box_loss: 1.4811 - val_class_loss: 0.8459 - lr: 1.0000e-06\n",
      "Epoch 48/50\n",
      "1912/1912 [==============================] - 396s 207ms/step - loss: 1.9296 - box_loss: 1.2764 - class_loss: 0.6532 - val_loss: 2.3385 - val_box_loss: 1.4892 - val_class_loss: 0.8492 - lr: 1.0000e-06\n",
      "Epoch 49/50\n",
      "1912/1912 [==============================] - ETA: 0s - loss: 1.9391 - box_loss: 1.2837 - class_loss: 0.6554WARNING:tensorflow:Found duplicated `Variable`s in Model's `weights`. This is usually caused by `Variable`s being shared by Layers in the Model. These `Variable`s will be treated as separate `Variable`s when the Model is restored. To avoid this, please save with `save_format=\"tf\"`.\n",
      "1912/1912 [==============================] - 416s 217ms/step - loss: 1.9391 - box_loss: 1.2837 - class_loss: 0.6554 - val_loss: 2.3010 - val_box_loss: 1.4757 - val_class_loss: 0.8253 - lr: 1.0000e-06\n",
      "Epoch 50/50\n",
      "1912/1912 [==============================] - 398s 208ms/step - loss: 1.9266 - box_loss: 1.2781 - class_loss: 0.6486 - val_loss: 2.3434 - val_box_loss: 1.5007 - val_class_loss: 0.8427 - lr: 1.0000e-06\n"
     ]
    }
   ],
   "source": [
    "# definizione di due callback per migliorare l'addestramento\n",
    "early_stopping = keras.callbacks.EarlyStopping(monitor=\"val_loss\", patience=10)\n",
    "reduce_lr = keras.callbacks.ReduceLROnPlateau(monitor=\"val_loss\", patience=5)\n",
    "\n",
    "history = yolo.fit(\n",
    "    train_ds,\n",
    "    validation_data=val_ds,\n",
    "    epochs=EPOCH,\n",
    "    callbacks=[EvaluateCOCOMetricsCallback(val_ds, \"model-s-onlyhead\"), early_stopping, reduce_lr]\n",
    ")"
   ]
  },
  {
   "cell_type": "code",
   "execution_count": 24,
   "metadata": {},
   "outputs": [
    {
     "data": {
      "image/png": "[encoded data removed]",
      "text/plain": [
       "<Figure size 640x480 with 1 Axes>"
      ]
     },
     "metadata": {},
     "output_type": "display_data"
    }
   ],
   "source": [
    "plt.plot(history.history['loss'], label='Loss')\n",
    "plt.plot(history.history['box_loss'], label='box_loss')\n",
    "plt.plot(history.history['class_loss'], label='class_loss')\n",
    "plt.plot(history.history['val_loss'], label='val_loss')\n",
    "plt.plot(history.history['val_box_loss'], label='val_box_loss')\n",
    "plt.plot(history.history['val_class_loss'], label='val_class_loss')\n",
    "plt.legend(loc=\"upper right\")\n",
    "plt.show()"
   ]
  },
  {
   "cell_type": "code",
   "execution_count": 25,
   "metadata": {},
   "outputs": [],
   "source": [
    "now = datetime.now()\n",
    "pd.DataFrame.from_dict(history.history).to_csv('model-s-onlyhead-test2-history' + now.strftime(\"-%m%d%Y-%H%M%S\") + '.csv',index=False)"
   ]
  },
  {
   "cell_type": "code",
   "execution_count": null,
   "metadata": {},
   "outputs": [],
   "source": []
  }
 ],
 "metadata": {
  "accelerator": "GPU",
  "colab": {
   "provenance": []
  },
  "kernelspec": {
   "display_name": "Python 3 (ipykernel)",
   "language": "python",
   "name": "python3"
  },
  "language_info": {
   "codemirror_mode": {
    "name": "ipython",
    "version": 3
   },
   "file_extension": ".py",
   "mimetype": "text/x-python",
   "name": "python",
   "nbconvert_exporter": "python",
   "pygments_lexer": "ipython3",
   "version": "3.10.12"
  },
  "widgets": {
   "application/vnd.jupyter.widget-state+json": {
    "23e4a255f1664c699d2d6cf00253559c": {
     "model_module": "@jupyter-widgets/controls",
     "model_module_version": "1.5.0",
     "model_name": "HTMLModel",
     "state": {
      "_dom_classes": [],
      "_model_module": "@jupyter-widgets/controls",
      "_model_module_version": "1.5.0",
      "_model_name": "HTMLModel",
      "_view_count": null,
      "_view_module": "@jupyter-widgets/controls",
      "_view_module_version": "1.5.0",
      "_view_name": "HTMLView",
      "description": "",
      "description_tooltip": null,
      "layout": "IPY_MODEL_b618213856a34ec3830ad0b48a5a0028",
      "placeholder": "​",
      "style": "IPY_MODEL_8c4cd4fca7d349d5b5d0eb212d5d84f2",
      "value": " 4660/4660 [00:03&lt;00:00, 1138.91it/s]"
     }
    },
    "2b949297991243388c2bbd0a04760f41": {
     "model_module": "@jupyter-widgets/controls",
     "model_module_version": "1.5.0",
     "model_name": "HBoxModel",
     "state": {
      "_dom_classes": [],
      "_model_module": "@jupyter-widgets/controls",
      "_model_module_version": "1.5.0",
      "_model_name": "HBoxModel",
      "_view_count": null,
      "_view_module": "@jupyter-widgets/controls",
      "_view_module_version": "1.5.0",
      "_view_name": "HBoxView",
      "box_style": "",
      "children": [
       "IPY_MODEL_a1c6cbfd5c614a68ba9a3bb1f5efc5f7",
       "IPY_MODEL_611f30558a3d4278bb6cdeb52c98cff5",
       "IPY_MODEL_23e4a255f1664c699d2d6cf00253559c"
      ],
      "layout": "IPY_MODEL_6fc913a8f1604a639b5a45437af4718c"
     }
    },
    "5dc5446c9611411ca61b12b715253919": {
     "model_module": "@jupyter-widgets/base",
     "model_module_version": "1.2.0",
     "model_name": "LayoutModel",
     "state": {
      "_model_module": "@jupyter-widgets/base",
      "_model_module_version": "1.2.0",
      "_model_name": "LayoutModel",
      "_view_count": null,
      "_view_module": "@jupyter-widgets/base",
      "_view_module_version": "1.2.0",
      "_view_name": "LayoutView",
      "align_content": null,
      "align_items": null,
      "align_self": null,
      "border": null,
      "bottom": null,
      "display": null,
      "flex": null,
      "flex_flow": null,
      "grid_area": null,
      "grid_auto_columns": null,
      "grid_auto_flow": null,
      "grid_auto_rows": null,
      "grid_column": null,
      "grid_gap": null,
      "grid_row": null,
      "grid_template_areas": null,
      "grid_template_columns": null,
      "grid_template_rows": null,
      "height": null,
      "justify_content": null,
      "justify_items": null,
      "left": null,
      "margin": null,
      "max_height": null,
      "max_width": null,
      "min_height": null,
      "min_width": null,
      "object_fit": null,
      "object_position": null,
      "order": null,
      "overflow": null,
      "overflow_x": null,
      "overflow_y": null,
      "padding": null,
      "right": null,
      "top": null,
      "visibility": null,
      "width": null
     }
    },
    "611f30558a3d4278bb6cdeb52c98cff5": {
     "model_module": "@jupyter-widgets/controls",
     "model_module_version": "1.5.0",
     "model_name": "FloatProgressModel",
     "state": {
      "_dom_classes": [],
      "_model_module": "@jupyter-widgets/controls",
      "_model_module_version": "1.5.0",
      "_model_name": "FloatProgressModel",
      "_view_count": null,
      "_view_module": "@jupyter-widgets/controls",
      "_view_module_version": "1.5.0",
      "_view_name": "ProgressView",
      "bar_style": "success",
      "description": "",
      "description_tooltip": null,
      "layout": "IPY_MODEL_5dc5446c9611411ca61b12b715253919",
      "max": 4660,
      "min": 0,
      "orientation": "horizontal",
      "style": "IPY_MODEL_66722e0666bf4bfa96238cdec21491f6",
      "value": 4660
     }
    },
    "66722e0666bf4bfa96238cdec21491f6": {
     "model_module": "@jupyter-widgets/controls",
     "model_module_version": "1.5.0",
     "model_name": "ProgressStyleModel",
     "state": {
      "_model_module": "@jupyter-widgets/controls",
      "_model_module_version": "1.5.0",
      "_model_name": "ProgressStyleModel",
      "_view_count": null,
      "_view_module": "@jupyter-widgets/base",
      "_view_module_version": "1.2.0",
      "_view_name": "StyleView",
      "bar_color": null,
      "description_width": ""
     }
    },
    "66b3cacb326448829fc378be51cbeebe": {
     "model_module": "@jupyter-widgets/controls",
     "model_module_version": "1.5.0",
     "model_name": "DescriptionStyleModel",
     "state": {
      "_model_module": "@jupyter-widgets/controls",
      "_model_module_version": "1.5.0",
      "_model_name": "DescriptionStyleModel",
      "_view_count": null,
      "_view_module": "@jupyter-widgets/base",
      "_view_module_version": "1.2.0",
      "_view_name": "StyleView",
      "description_width": ""
     }
    },
    "6fc913a8f1604a639b5a45437af4718c": {
     "model_module": "@jupyter-widgets/base",
     "model_module_version": "1.2.0",
     "model_name": "LayoutModel",
     "state": {
      "_model_module": "@jupyter-widgets/base",
      "_model_module_version": "1.2.0",
      "_model_name": "LayoutModel",
      "_view_count": null,
      "_view_module": "@jupyter-widgets/base",
      "_view_module_version": "1.2.0",
      "_view_name": "LayoutView",
      "align_content": null,
      "align_items": null,
      "align_self": null,
      "border": null,
      "bottom": null,
      "display": null,
      "flex": null,
      "flex_flow": null,
      "grid_area": null,
      "grid_auto_columns": null,
      "grid_auto_flow": null,
      "grid_auto_rows": null,
      "grid_column": null,
      "grid_gap": null,
      "grid_row": null,
      "grid_template_areas": null,
      "grid_template_columns": null,
      "grid_template_rows": null,
      "height": null,
      "justify_content": null,
      "justify_items": null,
      "left": null,
      "margin": null,
      "max_height": null,
      "max_width": null,
      "min_height": null,
      "min_width": null,
      "object_fit": null,
      "object_position": null,
      "order": null,
      "overflow": null,
      "overflow_x": null,
      "overflow_y": null,
      "padding": null,
      "right": null,
      "top": null,
      "visibility": null,
      "width": null
     }
    },
    "8c4cd4fca7d349d5b5d0eb212d5d84f2": {
     "model_module": "@jupyter-widgets/controls",
     "model_module_version": "1.5.0",
     "model_name": "DescriptionStyleModel",
     "state": {
      "_model_module": "@jupyter-widgets/controls",
      "_model_module_version": "1.5.0",
      "_model_name": "DescriptionStyleModel",
      "_view_count": null,
      "_view_module": "@jupyter-widgets/base",
      "_view_module_version": "1.2.0",
      "_view_name": "StyleView",
      "description_width": ""
     }
    },
    "a1c6cbfd5c614a68ba9a3bb1f5efc5f7": {
     "model_module": "@jupyter-widgets/controls",
     "model_module_version": "1.5.0",
     "model_name": "HTMLModel",
     "state": {
      "_dom_classes": [],
      "_model_module": "@jupyter-widgets/controls",
      "_model_module_version": "1.5.0",
      "_model_name": "HTMLModel",
      "_view_count": null,
      "_view_module": "@jupyter-widgets/controls",
      "_view_module_version": "1.5.0",
      "_view_name": "HTMLView",
      "description": "",
      "description_tooltip": null,
      "layout": "IPY_MODEL_e3c791bfcf6c453d85dae4f359b74f83",
      "placeholder": "​",
      "style": "IPY_MODEL_66b3cacb326448829fc378be51cbeebe",
      "value": "100%"
     }
    },
    "b618213856a34ec3830ad0b48a5a0028": {
     "model_module": "@jupyter-widgets/base",
     "model_module_version": "1.2.0",
     "model_name": "LayoutModel",
     "state": {
      "_model_module": "@jupyter-widgets/base",
      "_model_module_version": "1.2.0",
      "_model_name": "LayoutModel",
      "_view_count": null,
      "_view_module": "@jupyter-widgets/base",
      "_view_module_version": "1.2.0",
      "_view_name": "LayoutView",
      "align_content": null,
      "align_items": null,
      "align_self": null,
      "border": null,
      "bottom": null,
      "display": null,
      "flex": null,
      "flex_flow": null,
      "grid_area": null,
      "grid_auto_columns": null,
      "grid_auto_flow": null,
      "grid_auto_rows": null,
      "grid_column": null,
      "grid_gap": null,
      "grid_row": null,
      "grid_template_areas": null,
      "grid_template_columns": null,
      "grid_template_rows": null,
      "height": null,
      "justify_content": null,
      "justify_items": null,
      "left": null,
      "margin": null,
      "max_height": null,
      "max_width": null,
      "min_height": null,
      "min_width": null,
      "object_fit": null,
      "object_position": null,
      "order": null,
      "overflow": null,
      "overflow_x": null,
      "overflow_y": null,
      "padding": null,
      "right": null,
      "top": null,
      "visibility": null,
      "width": null
     }
    },
    "e3c791bfcf6c453d85dae4f359b74f83": {
     "model_module": "@jupyter-widgets/base",
     "model_module_version": "1.2.0",
     "model_name": "LayoutModel",
     "state": {
      "_model_module": "@jupyter-widgets/base",
      "_model_module_version": "1.2.0",
      "_model_name": "LayoutModel",
      "_view_count": null,
      "_view_module": "@jupyter-widgets/base",
      "_view_module_version": "1.2.0",
      "_view_name": "LayoutView",
      "align_content": null,
      "align_items": null,
      "align_self": null,
      "border": null,
      "bottom": null,
      "display": null,
      "flex": null,
      "flex_flow": null,
      "grid_area": null,
      "grid_auto_columns": null,
      "grid_auto_flow": null,
      "grid_auto_rows": null,
      "grid_column": null,
      "grid_gap": null,
      "grid_row": null,
      "grid_template_areas": null,
      "grid_template_columns": null,
      "grid_template_rows": null,
      "height": null,
      "justify_content": null,
      "justify_items": null,
      "left": null,
      "margin": null,
      "max_height": null,
      "max_width": null,
      "min_height": null,
      "min_width": null,
      "object_fit": null,
      "object_position": null,
      "order": null,
      "overflow": null,
      "overflow_x": null,
      "overflow_y": null,
      "padding": null,
      "right": null,
      "top": null,
      "visibility": null,
      "width": null
     }
    }
   }
  }
 },
 "nbformat": 4,
 "nbformat_minor": 4
}
